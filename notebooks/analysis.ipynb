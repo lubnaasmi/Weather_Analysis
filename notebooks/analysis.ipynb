{
 "cells": [
  {
   "cell_type": "markdown",
   "id": "63d0a69d",
   "metadata": {},
   "source": [
    "# Analysis\n",
    "\n",
    "Create your own EDA below! Create as many code-blocks as you need.\n",
    "\n",
    "Once you've completed your EDA, complete the section titled **Reflections** where you will answer questions about your EDA."
   ]
  },
  {
   "cell_type": "code",
   "execution_count": 1,
   "id": "6655a736",
   "metadata": {},
   "outputs": [],
   "source": [
    "import pandas as pd \n",
    "import numpy as np\n",
    "\n",
    "import seaborn as sns\n",
    "import matplotlib.pyplot as plt"
   ]
  },
  {
   "cell_type": "code",
   "execution_count": 2,
   "id": "868ea7cd",
   "metadata": {},
   "outputs": [],
   "source": [
    "# import coffee data\n",
    "coffee = pd.read_csv(\"../data/crop/coffee_output.csv\")\n",
    "\n",
    "# import weather data\n",
    "weather = pd.read_csv(\"../data/weather/weather_data.csv\")"
   ]
  },
  {
   "cell_type": "code",
   "execution_count": 5,
   "id": "71bfd191",
   "metadata": {},
   "outputs": [],
   "source": [
    "#  Merge these two dataframes together\n",
    "\n",
    "merged_df = pd.merge(weather, coffee, on = ['year','subdivision'])"
   ]
  },
  {
   "cell_type": "code",
   "execution_count": 6,
   "id": "44f435eb",
   "metadata": {},
   "outputs": [
    {
     "data": {
      "text/html": [
       "<div>\n",
       "<style scoped>\n",
       "    .dataframe tbody tr th:only-of-type {\n",
       "        vertical-align: middle;\n",
       "    }\n",
       "\n",
       "    .dataframe tbody tr th {\n",
       "        vertical-align: top;\n",
       "    }\n",
       "\n",
       "    .dataframe thead th {\n",
       "        text-align: right;\n",
       "    }\n",
       "</style>\n",
       "<table border=\"1\" class=\"dataframe\">\n",
       "  <thead>\n",
       "    <tr style=\"text-align: right;\">\n",
       "      <th></th>\n",
       "      <th>year</th>\n",
       "      <th>rain_max</th>\n",
       "      <th>temp_avg</th>\n",
       "      <th>temp_max</th>\n",
       "      <th>temp_min</th>\n",
       "      <th>hum_max</th>\n",
       "      <th>hum_min</th>\n",
       "      <th>wind_max</th>\n",
       "      <th>wind_avg</th>\n",
       "      <th>subdivision</th>\n",
       "      <th>country</th>\n",
       "      <th>type</th>\n",
       "      <th>60kgs_bag</th>\n",
       "      <th>nonbearing_trees</th>\n",
       "      <th>bearing_trees</th>\n",
       "      <th>nonbear_hectares</th>\n",
       "      <th>bearing_hectares</th>\n",
       "      <th>bearing_trees_per_hectare</th>\n",
       "      <th>nonbearing_trees_per_hectare</th>\n",
       "    </tr>\n",
       "  </thead>\n",
       "  <tbody>\n",
       "    <tr>\n",
       "      <th>0</th>\n",
       "      <td>2006</td>\n",
       "      <td>6.670968</td>\n",
       "      <td>21.803087</td>\n",
       "      <td>27.190323</td>\n",
       "      <td>18.654839</td>\n",
       "      <td>97.129032</td>\n",
       "      <td>57.806452</td>\n",
       "      <td>9.706452</td>\n",
       "      <td>2.075207</td>\n",
       "      <td>Minas Gerais</td>\n",
       "      <td>Brazil</td>\n",
       "      <td>Arabica</td>\n",
       "      <td>16.30</td>\n",
       "      <td>581.0</td>\n",
       "      <td>5330.0</td>\n",
       "      <td>175.0</td>\n",
       "      <td>2298.0</td>\n",
       "      <td>2319.0</td>\n",
       "      <td>3320.0</td>\n",
       "    </tr>\n",
       "    <tr>\n",
       "      <th>1</th>\n",
       "      <td>2007</td>\n",
       "      <td>1.866250</td>\n",
       "      <td>23.040999</td>\n",
       "      <td>27.649375</td>\n",
       "      <td>18.753125</td>\n",
       "      <td>87.837500</td>\n",
       "      <td>48.493750</td>\n",
       "      <td>8.749375</td>\n",
       "      <td>2.069605</td>\n",
       "      <td>Minas Gerais</td>\n",
       "      <td>Brazil</td>\n",
       "      <td>Arabica</td>\n",
       "      <td>23.70</td>\n",
       "      <td>563.0</td>\n",
       "      <td>5730.0</td>\n",
       "      <td>186.0</td>\n",
       "      <td>2245.0</td>\n",
       "      <td>2552.0</td>\n",
       "      <td>3030.0</td>\n",
       "    </tr>\n",
       "    <tr>\n",
       "      <th>2</th>\n",
       "      <td>2008</td>\n",
       "      <td>3.777049</td>\n",
       "      <td>20.682400</td>\n",
       "      <td>27.000000</td>\n",
       "      <td>16.216393</td>\n",
       "      <td>96.136612</td>\n",
       "      <td>51.415301</td>\n",
       "      <td>8.865027</td>\n",
       "      <td>1.584408</td>\n",
       "      <td>Minas Gerais</td>\n",
       "      <td>Brazil</td>\n",
       "      <td>Arabica</td>\n",
       "      <td>16.85</td>\n",
       "      <td>679.0</td>\n",
       "      <td>5720.0</td>\n",
       "      <td>196.0</td>\n",
       "      <td>2235.0</td>\n",
       "      <td>2559.0</td>\n",
       "      <td>3468.0</td>\n",
       "    </tr>\n",
       "    <tr>\n",
       "      <th>3</th>\n",
       "      <td>2009</td>\n",
       "      <td>3.380220</td>\n",
       "      <td>21.023802</td>\n",
       "      <td>27.769231</td>\n",
       "      <td>16.410440</td>\n",
       "      <td>96.054945</td>\n",
       "      <td>49.329670</td>\n",
       "      <td>9.114286</td>\n",
       "      <td>1.611746</td>\n",
       "      <td>Minas Gerais</td>\n",
       "      <td>Brazil</td>\n",
       "      <td>Arabica</td>\n",
       "      <td>25.55</td>\n",
       "      <td>663.0</td>\n",
       "      <td>5770.0</td>\n",
       "      <td>188.0</td>\n",
       "      <td>2223.0</td>\n",
       "      <td>2596.0</td>\n",
       "      <td>3527.0</td>\n",
       "    </tr>\n",
       "    <tr>\n",
       "      <th>4</th>\n",
       "      <td>2010</td>\n",
       "      <td>2.183516</td>\n",
       "      <td>21.444293</td>\n",
       "      <td>28.580769</td>\n",
       "      <td>16.156044</td>\n",
       "      <td>95.247253</td>\n",
       "      <td>44.648352</td>\n",
       "      <td>9.109341</td>\n",
       "      <td>1.455907</td>\n",
       "      <td>Minas Gerais</td>\n",
       "      <td>Brazil</td>\n",
       "      <td>Arabica</td>\n",
       "      <td>22.10</td>\n",
       "      <td>873.0</td>\n",
       "      <td>5725.0</td>\n",
       "      <td>244.0</td>\n",
       "      <td>2151.0</td>\n",
       "      <td>2662.0</td>\n",
       "      <td>3578.0</td>\n",
       "    </tr>\n",
       "  </tbody>\n",
       "</table>\n",
       "</div>"
      ],
      "text/plain": [
       "   year  rain_max   temp_avg   temp_max   temp_min    hum_max    hum_min  \\\n",
       "0  2006  6.670968  21.803087  27.190323  18.654839  97.129032  57.806452   \n",
       "1  2007  1.866250  23.040999  27.649375  18.753125  87.837500  48.493750   \n",
       "2  2008  3.777049  20.682400  27.000000  16.216393  96.136612  51.415301   \n",
       "3  2009  3.380220  21.023802  27.769231  16.410440  96.054945  49.329670   \n",
       "4  2010  2.183516  21.444293  28.580769  16.156044  95.247253  44.648352   \n",
       "\n",
       "   wind_max  wind_avg   subdivision country     type  60kgs_bag  \\\n",
       "0  9.706452  2.075207  Minas Gerais  Brazil  Arabica      16.30   \n",
       "1  8.749375  2.069605  Minas Gerais  Brazil  Arabica      23.70   \n",
       "2  8.865027  1.584408  Minas Gerais  Brazil  Arabica      16.85   \n",
       "3  9.114286  1.611746  Minas Gerais  Brazil  Arabica      25.55   \n",
       "4  9.109341  1.455907  Minas Gerais  Brazil  Arabica      22.10   \n",
       "\n",
       "   nonbearing_trees  bearing_trees  nonbear_hectares  bearing_hectares  \\\n",
       "0             581.0         5330.0             175.0            2298.0   \n",
       "1             563.0         5730.0             186.0            2245.0   \n",
       "2             679.0         5720.0             196.0            2235.0   \n",
       "3             663.0         5770.0             188.0            2223.0   \n",
       "4             873.0         5725.0             244.0            2151.0   \n",
       "\n",
       "   bearing_trees_per_hectare  nonbearing_trees_per_hectare  \n",
       "0                     2319.0                        3320.0  \n",
       "1                     2552.0                        3030.0  \n",
       "2                     2559.0                        3468.0  \n",
       "3                     2596.0                        3527.0  \n",
       "4                     2662.0                        3578.0  "
      ]
     },
     "execution_count": 6,
     "metadata": {},
     "output_type": "execute_result"
    }
   ],
   "source": [
    "# View the first 5 rows of your data\n",
    "\n",
    "merged_df.head()"
   ]
  },
  {
   "cell_type": "code",
   "execution_count": 7,
   "id": "9600b65c",
   "metadata": {},
   "outputs": [
    {
     "data": {
      "text/plain": [
       "year                            0\n",
       "rain_max                        0\n",
       "temp_avg                        0\n",
       "temp_max                        0\n",
       "temp_min                        0\n",
       "hum_max                         0\n",
       "hum_min                         0\n",
       "wind_max                        0\n",
       "wind_avg                        0\n",
       "subdivision                     0\n",
       "country                         0\n",
       "type                            0\n",
       "60kgs_bag                       0\n",
       "nonbearing_trees                1\n",
       "bearing_trees                   1\n",
       "nonbear_hectares                1\n",
       "bearing_hectares                1\n",
       "bearing_trees_per_hectare       1\n",
       "nonbearing_trees_per_hectare    1\n",
       "dtype: int64"
      ]
     },
     "execution_count": 7,
     "metadata": {},
     "output_type": "execute_result"
    }
   ],
   "source": [
    "# TODO: Check for null values \n",
    "\n",
    "merged_df.isnull().sum()"
   ]
  },
  {
   "cell_type": "code",
   "execution_count": 8,
   "id": "ff411571",
   "metadata": {},
   "outputs": [],
   "source": [
    "# TODO: Drop rows that contain null values\n",
    "\n",
    "merged_df.dropna(inplace=True)"
   ]
  },
  {
   "cell_type": "code",
   "execution_count": 9,
   "id": "d1ef7f0f",
   "metadata": {},
   "outputs": [
    {
     "data": {
      "text/plain": [
       "year                            0\n",
       "rain_max                        0\n",
       "temp_avg                        0\n",
       "temp_max                        0\n",
       "temp_min                        0\n",
       "hum_max                         0\n",
       "hum_min                         0\n",
       "wind_max                        0\n",
       "wind_avg                        0\n",
       "subdivision                     0\n",
       "country                         0\n",
       "type                            0\n",
       "60kgs_bag                       0\n",
       "nonbearing_trees                0\n",
       "bearing_trees                   0\n",
       "nonbear_hectares                0\n",
       "bearing_hectares                0\n",
       "bearing_trees_per_hectare       0\n",
       "nonbearing_trees_per_hectare    0\n",
       "dtype: int64"
      ]
     },
     "execution_count": 9,
     "metadata": {},
     "output_type": "execute_result"
    }
   ],
   "source": [
    "merged_df.isnull().sum()"
   ]
  },
  {
   "cell_type": "markdown",
   "id": "a33e1db5",
   "metadata": {},
   "source": [
    "## Reflections\n",
    "\n",
    "Answer each question based on the visualizations that you've generated.\n",
    "\n",
    "Remember, you must justify your answers with proof! Look back to W6D3 for more context."
   ]
  },
  {
   "cell_type": "markdown",
   "id": "fe46532b",
   "metadata": {},
   "source": [
    "What is the relationship between temp_avg and 60kgs_bag? How *strong* is this relationship? Use pearson's correlation coefficient."
   ]
  },
  {
   "cell_type": "code",
   "execution_count": 10,
   "id": "1f8213d1",
   "metadata": {},
   "outputs": [
    {
     "data": {
      "text/html": [
       "<div>\n",
       "<style scoped>\n",
       "    .dataframe tbody tr th:only-of-type {\n",
       "        vertical-align: middle;\n",
       "    }\n",
       "\n",
       "    .dataframe tbody tr th {\n",
       "        vertical-align: top;\n",
       "    }\n",
       "\n",
       "    .dataframe thead th {\n",
       "        text-align: right;\n",
       "    }\n",
       "</style>\n",
       "<table border=\"1\" class=\"dataframe\">\n",
       "  <thead>\n",
       "    <tr style=\"text-align: right;\">\n",
       "      <th></th>\n",
       "      <th>temp_avg</th>\n",
       "      <th>60kgs_bag</th>\n",
       "    </tr>\n",
       "  </thead>\n",
       "  <tbody>\n",
       "    <tr>\n",
       "      <th>temp_avg</th>\n",
       "      <td>1.000000</td>\n",
       "      <td>-0.124772</td>\n",
       "    </tr>\n",
       "    <tr>\n",
       "      <th>60kgs_bag</th>\n",
       "      <td>-0.124772</td>\n",
       "      <td>1.000000</td>\n",
       "    </tr>\n",
       "  </tbody>\n",
       "</table>\n",
       "</div>"
      ],
      "text/plain": [
       "           temp_avg  60kgs_bag\n",
       "temp_avg   1.000000  -0.124772\n",
       "60kgs_bag -0.124772   1.000000"
      ]
     },
     "execution_count": 10,
     "metadata": {},
     "output_type": "execute_result"
    }
   ],
   "source": [
    "merged_df[['temp_avg','60kgs_bag']].corr()"
   ]
  },
  {
   "cell_type": "code",
   "execution_count": null,
   "id": "2e13989c",
   "metadata": {},
   "outputs": [
    {
     "data": {
      "text/plain": [
       "Text(0, 0.5, 'Coffee Bags Produced')"
      ]
     },
     "execution_count": 18,
     "metadata": {},
     "output_type": "execute_result"
    },
    {
     "data": {
      "image/png": "[encoded data removed]",
      "text/plain": [
       "<Figure size 640x480 with 1 Axes>"
      ]
     },
     "metadata": {},
     "output_type": "display_data"
    }
   ],
   "source": [
    "sns.scatterplot(x = merged_df['temp_avg'],y = merged_df['60kgs_bag'])\n",
    "\n",
    "plt.title('Relationship Between Avg Temp and Coffee Bags')\n",
    "plt.xlabel('Avg Temp')\n",
    "plt.ylabel('Coffee Bags Produced')"
   ]
  },
  {
   "cell_type": "markdown",
   "id": "399f763c",
   "metadata": {},
   "source": [
    "Answer:\n",
    "\n",
    "The Pearson's correlation coefficient of -0.124772 indicates a very weak negative relationship between average temperature and coffee production (60kgs_bag).\n",
    "The scatter plot shows a weak and scattered distribution of data points, with no clear upward or downward trend. ie,  there is no linear relationship between average temperature and coffee production in this data. \n",
    "\n",
    "\n",
    "\n"
   ]
  },
  {
   "cell_type": "markdown",
   "id": "29b1f634",
   "metadata": {},
   "source": [
    "__________________"
   ]
  },
  {
   "cell_type": "markdown",
   "id": "ccd4f1e8",
   "metadata": {},
   "source": [
    "What is the relationship between minimum humidity and 60kgs_bag? How *strong* is this relationship? Use pearson's correlation coefficient."
   ]
  },
  {
   "cell_type": "code",
   "execution_count": 13,
   "id": "851feae6",
   "metadata": {},
   "outputs": [
    {
     "data": {
      "text/html": [
       "<div>\n",
       "<style scoped>\n",
       "    .dataframe tbody tr th:only-of-type {\n",
       "        vertical-align: middle;\n",
       "    }\n",
       "\n",
       "    .dataframe tbody tr th {\n",
       "        vertical-align: top;\n",
       "    }\n",
       "\n",
       "    .dataframe thead th {\n",
       "        text-align: right;\n",
       "    }\n",
       "</style>\n",
       "<table border=\"1\" class=\"dataframe\">\n",
       "  <thead>\n",
       "    <tr style=\"text-align: right;\">\n",
       "      <th></th>\n",
       "      <th>hum_min</th>\n",
       "      <th>60kgs_bag</th>\n",
       "    </tr>\n",
       "  </thead>\n",
       "  <tbody>\n",
       "    <tr>\n",
       "      <th>hum_min</th>\n",
       "      <td>1.000000</td>\n",
       "      <td>-0.540171</td>\n",
       "    </tr>\n",
       "    <tr>\n",
       "      <th>60kgs_bag</th>\n",
       "      <td>-0.540171</td>\n",
       "      <td>1.000000</td>\n",
       "    </tr>\n",
       "  </tbody>\n",
       "</table>\n",
       "</div>"
      ],
      "text/plain": [
       "            hum_min  60kgs_bag\n",
       "hum_min    1.000000  -0.540171\n",
       "60kgs_bag -0.540171   1.000000"
      ]
     },
     "execution_count": 13,
     "metadata": {},
     "output_type": "execute_result"
    }
   ],
   "source": [
    "merged_df[['hum_min','60kgs_bag']].corr()"
   ]
  },
  {
   "cell_type": "code",
   "execution_count": 17,
   "id": "66aa1b94",
   "metadata": {},
   "outputs": [
    {
     "data": {
      "text/plain": [
       "Text(0, 0.5, 'Coffee Bags Produced')"
      ]
     },
     "execution_count": 17,
     "metadata": {},
     "output_type": "execute_result"
    },
    {
     "data": {
      "image/png": "[encoded data removed]",
      "text/plain": [
       "<Figure size 640x480 with 1 Axes>"
      ]
     },
     "metadata": {},
     "output_type": "display_data"
    }
   ],
   "source": [
    "sns.scatterplot(x = merged_df['hum_min'],y = merged_df['60kgs_bag'])\n",
    "\n",
    "\n",
    "plt.title('Relationship Between Min Humidity and Coffee Bags')\n",
    "plt.xlabel('Min Humidity')\n",
    "plt.ylabel('Coffee Bags Produced')"
   ]
  },
  {
   "cell_type": "markdown",
   "id": "634b3472",
   "metadata": {},
   "source": [
    "Answer:\n",
    "\n",
    "The Pearson correlation coefficient of -0.54 indicates a moderate negative linear relationship between minimum humidity (hum_min) and coffee production (60kgs_bag).\n",
    "The plot shows a somewhat downward trend, though not perfectly linear.\n",
    "ie, There is a moderate inverse correlation between minimum humidity and coffee yield. Higher minimum humidity may be associated with reduced coffee production.\n"
   ]
  },
  {
   "cell_type": "markdown",
   "id": "3209c783",
   "metadata": {},
   "source": [
    "_______________________"
   ]
  },
  {
   "cell_type": "markdown",
   "id": "0b500aa4",
   "metadata": {},
   "source": [
    "What is the relationship between rain_max and 60kgs_bag? How *strong* is this relationship? Use pearson's correlation coefficient."
   ]
  },
  {
   "cell_type": "code",
   "execution_count": 22,
   "id": "0cadc3e6",
   "metadata": {},
   "outputs": [
    {
     "data": {
      "text/html": [
       "<div>\n",
       "<style scoped>\n",
       "    .dataframe tbody tr th:only-of-type {\n",
       "        vertical-align: middle;\n",
       "    }\n",
       "\n",
       "    .dataframe tbody tr th {\n",
       "        vertical-align: top;\n",
       "    }\n",
       "\n",
       "    .dataframe thead th {\n",
       "        text-align: right;\n",
       "    }\n",
       "</style>\n",
       "<table border=\"1\" class=\"dataframe\">\n",
       "  <thead>\n",
       "    <tr style=\"text-align: right;\">\n",
       "      <th></th>\n",
       "      <th>rain_max</th>\n",
       "      <th>60kgs_bag</th>\n",
       "    </tr>\n",
       "  </thead>\n",
       "  <tbody>\n",
       "    <tr>\n",
       "      <th>rain_max</th>\n",
       "      <td>1.000000</td>\n",
       "      <td>-0.395811</td>\n",
       "    </tr>\n",
       "    <tr>\n",
       "      <th>60kgs_bag</th>\n",
       "      <td>-0.395811</td>\n",
       "      <td>1.000000</td>\n",
       "    </tr>\n",
       "  </tbody>\n",
       "</table>\n",
       "</div>"
      ],
      "text/plain": [
       "           rain_max  60kgs_bag\n",
       "rain_max   1.000000  -0.395811\n",
       "60kgs_bag -0.395811   1.000000"
      ]
     },
     "execution_count": 22,
     "metadata": {},
     "output_type": "execute_result"
    }
   ],
   "source": [
    "merged_df[['rain_max','60kgs_bag']].corr()\n"
   ]
  },
  {
   "cell_type": "code",
   "execution_count": 23,
   "id": "14a8931a",
   "metadata": {},
   "outputs": [
    {
     "data": {
      "text/plain": [
       "Text(0, 0.5, 'Coffee Bags Produced')"
      ]
     },
     "execution_count": 23,
     "metadata": {},
     "output_type": "execute_result"
    },
    {
     "data": {
      "image/png": "[encoded data removed]",
      "text/plain": [
       "<Figure size 640x480 with 1 Axes>"
      ]
     },
     "metadata": {},
     "output_type": "display_data"
    }
   ],
   "source": [
    "sns.scatterplot(x= merged_df['rain_max'], y = merged_df['60kgs_bag'])\n",
    "\n",
    "plt.title('Relationship Between Max rain and Coffee Bags')\n",
    "plt.xlabel('Max Rain')\n",
    "plt.ylabel('Coffee Bags Produced')"
   ]
  },
  {
   "cell_type": "markdown",
   "id": "e56d505e",
   "metadata": {},
   "source": [
    "Answer:\n",
    "The Pearson's correlation coefficient of -0.395811 indicates a weak to moderate negative linear relationship between maximum rainfall (rain_max) and coffee production (60kgs_bag).\n",
    "The scatter plot suggests a mild downward trend, with some dispersion in the data points. As expected, there is a negative correlation between maximum rainfall and coffee output."
   ]
  },
  {
   "cell_type": "markdown",
   "id": "d5490424",
   "metadata": {},
   "source": [
    "________________"
   ]
  },
  {
   "cell_type": "markdown",
   "id": "be3dab9c",
   "metadata": {},
   "source": [
    "What is the relationship between average wind speed and 60kgs_bag? How *strong* is this relationship? Use pearson's correlation coefficient.\n",
    "\n"
   ]
  },
  {
   "cell_type": "code",
   "execution_count": 24,
   "id": "f4353502",
   "metadata": {},
   "outputs": [
    {
     "data": {
      "text/html": [
       "<div>\n",
       "<style scoped>\n",
       "    .dataframe tbody tr th:only-of-type {\n",
       "        vertical-align: middle;\n",
       "    }\n",
       "\n",
       "    .dataframe tbody tr th {\n",
       "        vertical-align: top;\n",
       "    }\n",
       "\n",
       "    .dataframe thead th {\n",
       "        text-align: right;\n",
       "    }\n",
       "</style>\n",
       "<table border=\"1\" class=\"dataframe\">\n",
       "  <thead>\n",
       "    <tr style=\"text-align: right;\">\n",
       "      <th></th>\n",
       "      <th>wind_avg</th>\n",
       "      <th>60kgs_bag</th>\n",
       "    </tr>\n",
       "  </thead>\n",
       "  <tbody>\n",
       "    <tr>\n",
       "      <th>wind_avg</th>\n",
       "      <td>1.000000</td>\n",
       "      <td>-0.707327</td>\n",
       "    </tr>\n",
       "    <tr>\n",
       "      <th>60kgs_bag</th>\n",
       "      <td>-0.707327</td>\n",
       "      <td>1.000000</td>\n",
       "    </tr>\n",
       "  </tbody>\n",
       "</table>\n",
       "</div>"
      ],
      "text/plain": [
       "           wind_avg  60kgs_bag\n",
       "wind_avg   1.000000  -0.707327\n",
       "60kgs_bag -0.707327   1.000000"
      ]
     },
     "execution_count": 24,
     "metadata": {},
     "output_type": "execute_result"
    }
   ],
   "source": [
    "merged_df[['wind_avg','60kgs_bag']].corr()"
   ]
  },
  {
   "cell_type": "code",
   "execution_count": 25,
   "id": "e1210270",
   "metadata": {},
   "outputs": [
    {
     "data": {
      "text/plain": [
       "Text(0, 0.5, 'Coffee Bags Produced')"
      ]
     },
     "execution_count": 25,
     "metadata": {},
     "output_type": "execute_result"
    },
    {
     "data": {
      "image/png": "[encoded data removed]",
      "text/plain": [
       "<Figure size 640x480 with 1 Axes>"
      ]
     },
     "metadata": {},
     "output_type": "display_data"
    }
   ],
   "source": [
    "sns.scatterplot(x= merged_df['wind_avg'], y = merged_df['60kgs_bag'])\n",
    "\n",
    "plt.title('Relationship Between Avg Wind and Coffee Bags Produced')\n",
    "plt.xlabel('Avg Wind')\n",
    "plt.ylabel('Coffee Bags Produced')"
   ]
  },
  {
   "cell_type": "markdown",
   "id": "663f6070",
   "metadata": {},
   "source": [
    "Answer:\n",
    "\n",
    "There is a strong negative linear relationship between avg wind and coffee output (-0.707), implying that higher wind speeds are generally associated with reduced 60kgs_bag quantities.\n",
    "The scatter plot supports this, showing a general downward trend in coffee productions as avg wind increases, though with some dispersion."
   ]
  },
  {
   "cell_type": "markdown",
   "id": "09d26130",
   "metadata": {},
   "source": [
    "________________"
   ]
  },
  {
   "cell_type": "markdown",
   "id": "ee6ea06a",
   "metadata": {},
   "source": [
    "Perform the same bivariate analysis between the mentioned weather columns (temp_avg, hum_min, rain_max, and wind_avg) and a coffee-related column of your choice (bearing_trees, nonbearing_trees, bearing_trees_per_hectare, etc). Which directions do these relationships follow? What are the strengths of these relationships?\n",
    "\n"
   ]
  },
  {
   "cell_type": "code",
   "execution_count": 26,
   "id": "1cfb46f5",
   "metadata": {},
   "outputs": [
    {
     "data": {
      "text/plain": [
       "Index(['year', 'rain_max', 'temp_avg', 'temp_max', 'temp_min', 'hum_max',\n",
       "       'hum_min', 'wind_max', 'wind_avg', 'subdivision', 'country', 'type',\n",
       "       '60kgs_bag', 'nonbearing_trees', 'bearing_trees', 'nonbear_hectares',\n",
       "       'bearing_hectares', 'bearing_trees_per_hectare',\n",
       "       'nonbearing_trees_per_hectare'],\n",
       "      dtype='object')"
      ]
     },
     "execution_count": 26,
     "metadata": {},
     "output_type": "execute_result"
    }
   ],
   "source": [
    "merged_df.columns"
   ]
  },
  {
   "cell_type": "code",
   "execution_count": 20,
   "id": "0cfa0f18",
   "metadata": {},
   "outputs": [
    {
     "data": {
      "text/html": [
       "<div>\n",
       "<style scoped>\n",
       "    .dataframe tbody tr th:only-of-type {\n",
       "        vertical-align: middle;\n",
       "    }\n",
       "\n",
       "    .dataframe tbody tr th {\n",
       "        vertical-align: top;\n",
       "    }\n",
       "\n",
       "    .dataframe thead th {\n",
       "        text-align: right;\n",
       "    }\n",
       "</style>\n",
       "<table border=\"1\" class=\"dataframe\">\n",
       "  <thead>\n",
       "    <tr style=\"text-align: right;\">\n",
       "      <th></th>\n",
       "      <th>temp_avg</th>\n",
       "      <th>hum_min</th>\n",
       "      <th>rain_max</th>\n",
       "      <th>wind_avg</th>\n",
       "    </tr>\n",
       "  </thead>\n",
       "  <tbody>\n",
       "    <tr>\n",
       "      <th>0</th>\n",
       "      <td>21.803087</td>\n",
       "      <td>57.806452</td>\n",
       "      <td>6.670968</td>\n",
       "      <td>2.075207</td>\n",
       "    </tr>\n",
       "    <tr>\n",
       "      <th>1</th>\n",
       "      <td>23.040999</td>\n",
       "      <td>48.493750</td>\n",
       "      <td>1.866250</td>\n",
       "      <td>2.069605</td>\n",
       "    </tr>\n",
       "    <tr>\n",
       "      <th>2</th>\n",
       "      <td>20.682400</td>\n",
       "      <td>51.415301</td>\n",
       "      <td>3.777049</td>\n",
       "      <td>1.584408</td>\n",
       "    </tr>\n",
       "    <tr>\n",
       "      <th>3</th>\n",
       "      <td>21.023802</td>\n",
       "      <td>49.329670</td>\n",
       "      <td>3.380220</td>\n",
       "      <td>1.611746</td>\n",
       "    </tr>\n",
       "    <tr>\n",
       "      <th>4</th>\n",
       "      <td>21.444293</td>\n",
       "      <td>44.648352</td>\n",
       "      <td>2.183516</td>\n",
       "      <td>1.455907</td>\n",
       "    </tr>\n",
       "    <tr>\n",
       "      <th>5</th>\n",
       "      <td>20.959536</td>\n",
       "      <td>49.252747</td>\n",
       "      <td>2.601786</td>\n",
       "      <td>1.557709</td>\n",
       "    </tr>\n",
       "    <tr>\n",
       "      <th>6</th>\n",
       "      <td>21.030624</td>\n",
       "      <td>46.366120</td>\n",
       "      <td>2.255738</td>\n",
       "      <td>1.483515</td>\n",
       "    </tr>\n",
       "    <tr>\n",
       "      <th>7</th>\n",
       "      <td>21.088660</td>\n",
       "      <td>49.390110</td>\n",
       "      <td>3.079121</td>\n",
       "      <td>1.459356</td>\n",
       "    </tr>\n",
       "    <tr>\n",
       "      <th>8</th>\n",
       "      <td>21.163462</td>\n",
       "      <td>44.824176</td>\n",
       "      <td>1.617582</td>\n",
       "      <td>1.238874</td>\n",
       "    </tr>\n",
       "    <tr>\n",
       "      <th>9</th>\n",
       "      <td>21.346828</td>\n",
       "      <td>48.406593</td>\n",
       "      <td>2.876923</td>\n",
       "      <td>1.193435</td>\n",
       "    </tr>\n",
       "    <tr>\n",
       "      <th>10</th>\n",
       "      <td>21.630402</td>\n",
       "      <td>47.587209</td>\n",
       "      <td>2.641860</td>\n",
       "      <td>1.158309</td>\n",
       "    </tr>\n",
       "    <tr>\n",
       "      <th>11</th>\n",
       "      <td>21.404627</td>\n",
       "      <td>47.475410</td>\n",
       "      <td>2.052459</td>\n",
       "      <td>0.969464</td>\n",
       "    </tr>\n",
       "    <tr>\n",
       "      <th>13</th>\n",
       "      <td>21.733539</td>\n",
       "      <td>48.230769</td>\n",
       "      <td>3.443956</td>\n",
       "      <td>0.905517</td>\n",
       "    </tr>\n",
       "    <tr>\n",
       "      <th>14</th>\n",
       "      <td>20.884335</td>\n",
       "      <td>51.005464</td>\n",
       "      <td>4.545355</td>\n",
       "      <td>0.900751</td>\n",
       "    </tr>\n",
       "    <tr>\n",
       "      <th>15</th>\n",
       "      <td>20.831525</td>\n",
       "      <td>44.824176</td>\n",
       "      <td>2.715385</td>\n",
       "      <td>0.847070</td>\n",
       "    </tr>\n",
       "    <tr>\n",
       "      <th>16</th>\n",
       "      <td>20.704556</td>\n",
       "      <td>48.543956</td>\n",
       "      <td>3.769231</td>\n",
       "      <td>0.929144</td>\n",
       "    </tr>\n",
       "    <tr>\n",
       "      <th>17</th>\n",
       "      <td>21.046566</td>\n",
       "      <td>48.857143</td>\n",
       "      <td>4.106593</td>\n",
       "      <td>0.812202</td>\n",
       "    </tr>\n",
       "  </tbody>\n",
       "</table>\n",
       "</div>"
      ],
      "text/plain": [
       "     temp_avg    hum_min  rain_max  wind_avg\n",
       "0   21.803087  57.806452  6.670968  2.075207\n",
       "1   23.040999  48.493750  1.866250  2.069605\n",
       "2   20.682400  51.415301  3.777049  1.584408\n",
       "3   21.023802  49.329670  3.380220  1.611746\n",
       "4   21.444293  44.648352  2.183516  1.455907\n",
       "5   20.959536  49.252747  2.601786  1.557709\n",
       "6   21.030624  46.366120  2.255738  1.483515\n",
       "7   21.088660  49.390110  3.079121  1.459356\n",
       "8   21.163462  44.824176  1.617582  1.238874\n",
       "9   21.346828  48.406593  2.876923  1.193435\n",
       "10  21.630402  47.587209  2.641860  1.158309\n",
       "11  21.404627  47.475410  2.052459  0.969464\n",
       "13  21.733539  48.230769  3.443956  0.905517\n",
       "14  20.884335  51.005464  4.545355  0.900751\n",
       "15  20.831525  44.824176  2.715385  0.847070\n",
       "16  20.704556  48.543956  3.769231  0.929144\n",
       "17  21.046566  48.857143  4.106593  0.812202"
      ]
     },
     "execution_count": 20,
     "metadata": {},
     "output_type": "execute_result"
    }
   ],
   "source": [
    "merged_df[['temp_avg', 'hum_min', 'rain_max', 'wind_avg']]"
   ]
  },
  {
   "cell_type": "code",
   "execution_count": 27,
   "id": "87fecdb7",
   "metadata": {},
   "outputs": [
    {
     "data": {
      "text/html": [
       "<div>\n",
       "<style scoped>\n",
       "    .dataframe tbody tr th:only-of-type {\n",
       "        vertical-align: middle;\n",
       "    }\n",
       "\n",
       "    .dataframe tbody tr th {\n",
       "        vertical-align: top;\n",
       "    }\n",
       "\n",
       "    .dataframe thead th {\n",
       "        text-align: right;\n",
       "    }\n",
       "</style>\n",
       "<table border=\"1\" class=\"dataframe\">\n",
       "  <thead>\n",
       "    <tr style=\"text-align: right;\">\n",
       "      <th></th>\n",
       "      <th>60kgs_bag</th>\n",
       "      <th>nonbearing_trees</th>\n",
       "      <th>bearing_trees</th>\n",
       "      <th>nonbear_hectares</th>\n",
       "      <th>bearing_hectares</th>\n",
       "      <th>bearing_trees_per_hectare</th>\n",
       "      <th>nonbearing_trees_per_hectare</th>\n",
       "    </tr>\n",
       "  </thead>\n",
       "  <tbody>\n",
       "    <tr>\n",
       "      <th>0</th>\n",
       "      <td>16.30</td>\n",
       "      <td>581.0</td>\n",
       "      <td>5330.0</td>\n",
       "      <td>175.0</td>\n",
       "      <td>2298.0</td>\n",
       "      <td>2319.0</td>\n",
       "      <td>3320.0</td>\n",
       "    </tr>\n",
       "    <tr>\n",
       "      <th>1</th>\n",
       "      <td>23.70</td>\n",
       "      <td>563.0</td>\n",
       "      <td>5730.0</td>\n",
       "      <td>186.0</td>\n",
       "      <td>2245.0</td>\n",
       "      <td>2552.0</td>\n",
       "      <td>3030.0</td>\n",
       "    </tr>\n",
       "    <tr>\n",
       "      <th>2</th>\n",
       "      <td>16.85</td>\n",
       "      <td>679.0</td>\n",
       "      <td>5720.0</td>\n",
       "      <td>196.0</td>\n",
       "      <td>2235.0</td>\n",
       "      <td>2559.0</td>\n",
       "      <td>3468.0</td>\n",
       "    </tr>\n",
       "    <tr>\n",
       "      <th>3</th>\n",
       "      <td>25.55</td>\n",
       "      <td>663.0</td>\n",
       "      <td>5770.0</td>\n",
       "      <td>188.0</td>\n",
       "      <td>2223.0</td>\n",
       "      <td>2596.0</td>\n",
       "      <td>3527.0</td>\n",
       "    </tr>\n",
       "    <tr>\n",
       "      <th>4</th>\n",
       "      <td>22.10</td>\n",
       "      <td>873.0</td>\n",
       "      <td>5725.0</td>\n",
       "      <td>244.0</td>\n",
       "      <td>2151.0</td>\n",
       "      <td>2662.0</td>\n",
       "      <td>3578.0</td>\n",
       "    </tr>\n",
       "    <tr>\n",
       "      <th>5</th>\n",
       "      <td>28.50</td>\n",
       "      <td>815.0</td>\n",
       "      <td>5820.0</td>\n",
       "      <td>234.0</td>\n",
       "      <td>2175.0</td>\n",
       "      <td>2676.0</td>\n",
       "      <td>3483.0</td>\n",
       "    </tr>\n",
       "    <tr>\n",
       "      <th>6</th>\n",
       "      <td>23.50</td>\n",
       "      <td>835.0</td>\n",
       "      <td>5760.0</td>\n",
       "      <td>260.0</td>\n",
       "      <td>2150.0</td>\n",
       "      <td>2679.0</td>\n",
       "      <td>3212.0</td>\n",
       "    </tr>\n",
       "    <tr>\n",
       "      <th>7</th>\n",
       "      <td>28.50</td>\n",
       "      <td>1000.0</td>\n",
       "      <td>5860.0</td>\n",
       "      <td>282.0</td>\n",
       "      <td>2105.0</td>\n",
       "      <td>2784.0</td>\n",
       "      <td>3546.0</td>\n",
       "    </tr>\n",
       "    <tr>\n",
       "      <th>8</th>\n",
       "      <td>29.40</td>\n",
       "      <td>1055.0</td>\n",
       "      <td>5810.0</td>\n",
       "      <td>307.0</td>\n",
       "      <td>2135.0</td>\n",
       "      <td>2721.0</td>\n",
       "      <td>3436.0</td>\n",
       "    </tr>\n",
       "    <tr>\n",
       "      <th>9</th>\n",
       "      <td>26.00</td>\n",
       "      <td>1185.0</td>\n",
       "      <td>5770.0</td>\n",
       "      <td>347.0</td>\n",
       "      <td>2090.0</td>\n",
       "      <td>2761.0</td>\n",
       "      <td>3415.0</td>\n",
       "    </tr>\n",
       "    <tr>\n",
       "      <th>10</th>\n",
       "      <td>25.30</td>\n",
       "      <td>1125.0</td>\n",
       "      <td>5735.0</td>\n",
       "      <td>340.0</td>\n",
       "      <td>2070.0</td>\n",
       "      <td>2771.0</td>\n",
       "      <td>3309.0</td>\n",
       "    </tr>\n",
       "    <tr>\n",
       "      <th>11</th>\n",
       "      <td>32.50</td>\n",
       "      <td>1300.0</td>\n",
       "      <td>5640.0</td>\n",
       "      <td>380.0</td>\n",
       "      <td>2020.0</td>\n",
       "      <td>2792.0</td>\n",
       "      <td>3421.0</td>\n",
       "    </tr>\n",
       "    <tr>\n",
       "      <th>13</th>\n",
       "      <td>34.20</td>\n",
       "      <td>1150.0</td>\n",
       "      <td>5740.0</td>\n",
       "      <td>335.0</td>\n",
       "      <td>2060.0</td>\n",
       "      <td>2786.0</td>\n",
       "      <td>3433.0</td>\n",
       "    </tr>\n",
       "    <tr>\n",
       "      <th>14</th>\n",
       "      <td>29.10</td>\n",
       "      <td>1230.0</td>\n",
       "      <td>5700.0</td>\n",
       "      <td>350.0</td>\n",
       "      <td>2040.0</td>\n",
       "      <td>2794.0</td>\n",
       "      <td>3514.0</td>\n",
       "    </tr>\n",
       "    <tr>\n",
       "      <th>15</th>\n",
       "      <td>34.80</td>\n",
       "      <td>1050.0</td>\n",
       "      <td>6200.0</td>\n",
       "      <td>320.0</td>\n",
       "      <td>2100.0</td>\n",
       "      <td>2952.0</td>\n",
       "      <td>3281.0</td>\n",
       "    </tr>\n",
       "    <tr>\n",
       "      <th>16</th>\n",
       "      <td>24.50</td>\n",
       "      <td>1500.0</td>\n",
       "      <td>6010.0</td>\n",
       "      <td>470.0</td>\n",
       "      <td>2010.0</td>\n",
       "      <td>2990.0</td>\n",
       "      <td>3191.0</td>\n",
       "    </tr>\n",
       "    <tr>\n",
       "      <th>17</th>\n",
       "      <td>28.50</td>\n",
       "      <td>1510.0</td>\n",
       "      <td>6100.0</td>\n",
       "      <td>475.0</td>\n",
       "      <td>2020.0</td>\n",
       "      <td>3020.0</td>\n",
       "      <td>3179.0</td>\n",
       "    </tr>\n",
       "  </tbody>\n",
       "</table>\n",
       "</div>"
      ],
      "text/plain": [
       "    60kgs_bag  nonbearing_trees  bearing_trees  nonbear_hectares  \\\n",
       "0       16.30             581.0         5330.0             175.0   \n",
       "1       23.70             563.0         5730.0             186.0   \n",
       "2       16.85             679.0         5720.0             196.0   \n",
       "3       25.55             663.0         5770.0             188.0   \n",
       "4       22.10             873.0         5725.0             244.0   \n",
       "5       28.50             815.0         5820.0             234.0   \n",
       "6       23.50             835.0         5760.0             260.0   \n",
       "7       28.50            1000.0         5860.0             282.0   \n",
       "8       29.40            1055.0         5810.0             307.0   \n",
       "9       26.00            1185.0         5770.0             347.0   \n",
       "10      25.30            1125.0         5735.0             340.0   \n",
       "11      32.50            1300.0         5640.0             380.0   \n",
       "13      34.20            1150.0         5740.0             335.0   \n",
       "14      29.10            1230.0         5700.0             350.0   \n",
       "15      34.80            1050.0         6200.0             320.0   \n",
       "16      24.50            1500.0         6010.0             470.0   \n",
       "17      28.50            1510.0         6100.0             475.0   \n",
       "\n",
       "    bearing_hectares  bearing_trees_per_hectare  nonbearing_trees_per_hectare  \n",
       "0             2298.0                     2319.0                        3320.0  \n",
       "1             2245.0                     2552.0                        3030.0  \n",
       "2             2235.0                     2559.0                        3468.0  \n",
       "3             2223.0                     2596.0                        3527.0  \n",
       "4             2151.0                     2662.0                        3578.0  \n",
       "5             2175.0                     2676.0                        3483.0  \n",
       "6             2150.0                     2679.0                        3212.0  \n",
       "7             2105.0                     2784.0                        3546.0  \n",
       "8             2135.0                     2721.0                        3436.0  \n",
       "9             2090.0                     2761.0                        3415.0  \n",
       "10            2070.0                     2771.0                        3309.0  \n",
       "11            2020.0                     2792.0                        3421.0  \n",
       "13            2060.0                     2786.0                        3433.0  \n",
       "14            2040.0                     2794.0                        3514.0  \n",
       "15            2100.0                     2952.0                        3281.0  \n",
       "16            2010.0                     2990.0                        3191.0  \n",
       "17            2020.0                     3020.0                        3179.0  "
      ]
     },
     "execution_count": 27,
     "metadata": {},
     "output_type": "execute_result"
    }
   ],
   "source": [
    "merged_df[['60kgs_bag', 'nonbearing_trees', 'bearing_trees', 'nonbear_hectares',\n",
    "       'bearing_hectares', 'bearing_trees_per_hectare',\n",
    "       'nonbearing_trees_per_hectare']]"
   ]
  },
  {
   "cell_type": "code",
   "execution_count": 38,
   "id": "c8a70a99",
   "metadata": {},
   "outputs": [
    {
     "data": {
      "image/png": "[encoded data removed]",
      "text/plain": [
       "<Figure size 640x480 with 2 Axes>"
      ]
     },
     "metadata": {},
     "output_type": "display_data"
    }
   ],
   "source": [
    "# Compute correlation matrix\n",
    "corr_matrix = merged_df[['temp_avg', 'hum_min', 'rain_max', 'wind_avg','bearing_trees']].corr()\n",
    "\n",
    "# Plot heatmap\n",
    "sns.heatmap(corr_matrix, annot=True, cmap='coolwarm')\n",
    "plt.title(\"Correlation Heatmap: Weather vs Bearing Trees\")\n",
    "plt.show()\n"
   ]
  },
  {
   "cell_type": "markdown",
   "id": "a9be66b4",
   "metadata": {},
   "source": [
    "Answer :\n",
    "\n",
    "temp_avg (-0.43)  --- Average Temp shows a weak-moderate negative correlation.\n",
    "\n",
    "hum_min (-0.59)  --- Minimum humidity shows a moderate to strong negative relationship.\n",
    "\n",
    "rain_max (-0.33)  --- Rainfall has a weaker negative correlation.\n",
    "\n",
    "wind_avg (-0.60)  --- There is a strong negative correlation between average wind speed and the number of bearing trees. This means that strong winds can harm coffee trees, possibly by breaking branches, shaking the roots, or putting too much pressure on the plants\n",
    "\n",
    "\n",
    "ie,All weather variables show a negative correlation with bearing_trees, but avg wind stands out with a very strong inverse relationship, suggesting it's the most critical factor to monitor."
   ]
  },
  {
   "cell_type": "markdown",
   "id": "a3b485ed",
   "metadata": {},
   "source": [
    "___________________________"
   ]
  },
  {
   "cell_type": "markdown",
   "id": "18ba1ed2",
   "metadata": {},
   "source": [
    "Which weather factor seems to influence coffee production the most? "
   ]
  },
  {
   "cell_type": "code",
   "execution_count": 41,
   "id": "a2ca8bc0",
   "metadata": {},
   "outputs": [
    {
     "data": {
      "image/png": "[encoded data removed]",
      "text/plain": [
       "<Figure size 640x480 with 2 Axes>"
      ]
     },
     "metadata": {},
     "output_type": "display_data"
    }
   ],
   "source": [
    "# Compute correlation matrix\n",
    "corr_matrix = merged_df[['temp_avg', 'hum_min', 'rain_max', 'wind_avg','60kgs_bag']].corr()\n",
    "\n",
    "# Plot heatmap\n",
    "plt.Figure(figsize=(10,6))\n",
    "sns.heatmap(corr_matrix, annot=True, cmap='coolwarm')\n",
    "plt.title(\"Correlation Heatmap: Weather vs Coffee Production\")\n",
    "plt.show()\n"
   ]
  },
  {
   "cell_type": "markdown",
   "id": "e538732b",
   "metadata": {},
   "source": [
    "Avg wind seems to influence coffee production the most, since corr is -0.71. It shows a very strong negative correlation, as average wind speed increases, coffee production decreases. This suggests wind is a major limiting factor for coffee production."
   ]
  },
  {
   "cell_type": "markdown",
   "id": "77373646",
   "metadata": {},
   "source": [
    "_______________"
   ]
  },
  {
   "cell_type": "markdown",
   "id": "95e8c38b",
   "metadata": {},
   "source": [
    "Which data would you collect to continue exploring the impacts of weather and economic forces on coffee production?\n",
    "\n",
    "Answer:\n",
    "\n",
    "To further explore the impacts of weather and economic forces on coffee production, I would collect data on solar radiation, soil quality, irrigation practices, water availability, planting density, and tree age distribution, as these directly affect crop growth. Economically, I’d gather information on market prices, input costs, subsidies or incentives, labor availability and wages, export volumes and prices, and transportation, as these factors influence production decisions and profitability."
   ]
  },
  {
   "cell_type": "markdown",
   "id": "7034648f",
   "metadata": {},
   "source": [
    "_____________"
   ]
  },
  {
   "cell_type": "markdown",
   "id": "0ca6f497",
   "metadata": {},
   "source": [
    "If you were preparing a report to provide coffee farmers, which weather condititions would you state are the most favorable for coffee growing (assuming any exist)?\n"
   ]
  },
  {
   "cell_type": "markdown",
   "id": "45399b22",
   "metadata": {},
   "source": [
    "Most Favorable Conditions for Coffee Farming:\n",
    "\n",
    "\n",
    "From the above data analysis, the most favorable conditions for coffee growing include low wind speeds, moderate humidity, mild temperatures, and balanced rainfall. Wind stands out as the most harmful factor, showing strong negative correlations with yield (60kgs_bag). This means that protecting coffee plants from strong winds, through windbreaks or natural barriers, should be a top priority. Additionally, managing humidity and avoiding temperature extremes can help reduce disease risk and maintain tree health. Overall, focusing on these environmental factors can lead to healthier plantations and improved coffee productivity.\n",
    "\n",
    "\n"
   ]
  },
  {
   "cell_type": "markdown",
   "id": "c7b78c0b",
   "metadata": {},
   "source": [
    "__________________________"
   ]
  }
 ],
 "metadata": {
  "kernelspec": {
   "display_name": "ds",
   "language": "python",
   "name": "python3"
  },
  "language_info": {
   "codemirror_mode": {
    "name": "ipython",
    "version": 3
   },
   "file_extension": ".py",
   "mimetype": "text/x-python",
   "name": "python",
   "nbconvert_exporter": "python",
   "pygments_lexer": "ipython3",
   "version": "3.12.9"
  }
 },
 "nbformat": 4,
 "nbformat_minor": 5
}
