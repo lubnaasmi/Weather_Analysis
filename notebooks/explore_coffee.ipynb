{
 "cells": [
  {
   "cell_type": "markdown",
   "id": "63d0a69d",
   "metadata": {},
   "source": [
    "# Coffee Analysis"
   ]
  },
  {
   "cell_type": "code",
   "execution_count": 1,
   "id": "6655a736",
   "metadata": {},
   "outputs": [],
   "source": [
    "# import libraries\n",
    "\n",
    "import pandas as pd \n",
    "import numpy as np\n",
    "\n",
    "import seaborn as sns\n",
    "import matplotlib.pyplot as plt"
   ]
  },
  {
   "cell_type": "markdown",
   "id": "e29874ee",
   "metadata": {},
   "source": [
    "#### Data Import"
   ]
  },
  {
   "cell_type": "code",
   "execution_count": 3,
   "id": "868ea7cd",
   "metadata": {},
   "outputs": [],
   "source": [
    "coffee = pd.read_csv(\"../data/crop/coffee_output.csv\")"
   ]
  },
  {
   "cell_type": "markdown",
   "id": "8604bc4e",
   "metadata": {},
   "source": [
    "#### Previewing the Dataset"
   ]
  },
  {
   "cell_type": "code",
   "execution_count": 4,
   "id": "a7c1799e",
   "metadata": {},
   "outputs": [
    {
     "data": {
      "text/html": [
       "<div>\n",
       "<style scoped>\n",
       "    .dataframe tbody tr th:only-of-type {\n",
       "        vertical-align: middle;\n",
       "    }\n",
       "\n",
       "    .dataframe tbody tr th {\n",
       "        vertical-align: top;\n",
       "    }\n",
       "\n",
       "    .dataframe thead th {\n",
       "        text-align: right;\n",
       "    }\n",
       "</style>\n",
       "<table border=\"1\" class=\"dataframe\">\n",
       "  <thead>\n",
       "    <tr style=\"text-align: right;\">\n",
       "      <th></th>\n",
       "      <th>country</th>\n",
       "      <th>subdivision</th>\n",
       "      <th>type</th>\n",
       "      <th>60kgs_bag</th>\n",
       "      <th>year</th>\n",
       "      <th>nonbearing_trees</th>\n",
       "      <th>bearing_trees</th>\n",
       "      <th>nonbear_hectares</th>\n",
       "      <th>bearing_hectares</th>\n",
       "      <th>bearing_trees_per_hectare</th>\n",
       "      <th>nonbearing_trees_per_hectare</th>\n",
       "    </tr>\n",
       "  </thead>\n",
       "  <tbody>\n",
       "    <tr>\n",
       "      <th>0</th>\n",
       "      <td>Brazil</td>\n",
       "      <td>Minas Gerais</td>\n",
       "      <td>Arabica</td>\n",
       "      <td>16.2</td>\n",
       "      <td>2002</td>\n",
       "      <td>1500.0</td>\n",
       "      <td>4465.0</td>\n",
       "      <td>495.0</td>\n",
       "      <td>2120.0</td>\n",
       "      <td>2106.0</td>\n",
       "      <td>3030.0</td>\n",
       "    </tr>\n",
       "    <tr>\n",
       "      <th>1</th>\n",
       "      <td>Brazil</td>\n",
       "      <td>Espirito Santo</td>\n",
       "      <td>Arabica</td>\n",
       "      <td>2.2</td>\n",
       "      <td>2002</td>\n",
       "      <td>1500.0</td>\n",
       "      <td>4465.0</td>\n",
       "      <td>495.0</td>\n",
       "      <td>2120.0</td>\n",
       "      <td>2106.0</td>\n",
       "      <td>3030.0</td>\n",
       "    </tr>\n",
       "    <tr>\n",
       "      <th>2</th>\n",
       "      <td>Brazil</td>\n",
       "      <td>Espirito Santo</td>\n",
       "      <td>Robusta</td>\n",
       "      <td>7.5</td>\n",
       "      <td>2002</td>\n",
       "      <td>1500.0</td>\n",
       "      <td>4465.0</td>\n",
       "      <td>495.0</td>\n",
       "      <td>2120.0</td>\n",
       "      <td>2106.0</td>\n",
       "      <td>3030.0</td>\n",
       "    </tr>\n",
       "    <tr>\n",
       "      <th>3</th>\n",
       "      <td>Brazil</td>\n",
       "      <td>Sao Paulo</td>\n",
       "      <td>Arabica</td>\n",
       "      <td>3.2</td>\n",
       "      <td>2002</td>\n",
       "      <td>1500.0</td>\n",
       "      <td>4465.0</td>\n",
       "      <td>495.0</td>\n",
       "      <td>2120.0</td>\n",
       "      <td>2106.0</td>\n",
       "      <td>3030.0</td>\n",
       "    </tr>\n",
       "    <tr>\n",
       "      <th>4</th>\n",
       "      <td>Brazil</td>\n",
       "      <td>Parana</td>\n",
       "      <td>Arabica</td>\n",
       "      <td>0.5</td>\n",
       "      <td>2002</td>\n",
       "      <td>1500.0</td>\n",
       "      <td>4465.0</td>\n",
       "      <td>495.0</td>\n",
       "      <td>2120.0</td>\n",
       "      <td>2106.0</td>\n",
       "      <td>3030.0</td>\n",
       "    </tr>\n",
       "  </tbody>\n",
       "</table>\n",
       "</div>"
      ],
      "text/plain": [
       "  country     subdivision     type  60kgs_bag  year  nonbearing_trees  \\\n",
       "0  Brazil    Minas Gerais  Arabica       16.2  2002            1500.0   \n",
       "1  Brazil  Espirito Santo  Arabica        2.2  2002            1500.0   \n",
       "2  Brazil  Espirito Santo  Robusta        7.5  2002            1500.0   \n",
       "3  Brazil       Sao Paulo  Arabica        3.2  2002            1500.0   \n",
       "4  Brazil          Parana  Arabica        0.5  2002            1500.0   \n",
       "\n",
       "   bearing_trees  nonbear_hectares  bearing_hectares  \\\n",
       "0         4465.0             495.0            2120.0   \n",
       "1         4465.0             495.0            2120.0   \n",
       "2         4465.0             495.0            2120.0   \n",
       "3         4465.0             495.0            2120.0   \n",
       "4         4465.0             495.0            2120.0   \n",
       "\n",
       "   bearing_trees_per_hectare  nonbearing_trees_per_hectare  \n",
       "0                     2106.0                        3030.0  \n",
       "1                     2106.0                        3030.0  \n",
       "2                     2106.0                        3030.0  \n",
       "3                     2106.0                        3030.0  \n",
       "4                     2106.0                        3030.0  "
      ]
     },
     "execution_count": 4,
     "metadata": {},
     "output_type": "execute_result"
    }
   ],
   "source": [
    "coffee.head(5)\n"
   ]
  },
  {
   "cell_type": "markdown",
   "id": "ffbbbde6",
   "metadata": {},
   "source": [
    "## Exploratory Data Analysis"
   ]
  },
  {
   "cell_type": "markdown",
   "id": "09e93967",
   "metadata": {},
   "source": [
    "#### Checking Dataset Dimensions"
   ]
  },
  {
   "cell_type": "code",
   "execution_count": 5,
   "id": "0dd5b87b",
   "metadata": {},
   "outputs": [
    {
     "data": {
      "text/plain": [
       "(114, 11)"
      ]
     },
     "execution_count": 5,
     "metadata": {},
     "output_type": "execute_result"
    }
   ],
   "source": [
    "coffee.shape"
   ]
  },
  {
   "cell_type": "markdown",
   "id": "5118a955",
   "metadata": {},
   "source": [
    "Coffee dataset contains 114 rows and 11 columns."
   ]
  },
  {
   "cell_type": "code",
   "execution_count": null,
   "id": "d3177a21",
   "metadata": {},
   "outputs": [
    {
     "data": {
      "text/plain": [
       "Index(['country', 'subdivision', 'type', '60kgs_bag', 'year',\n",
       "       'nonbearing_trees', 'bearing_trees', 'nonbear_hectares',\n",
       "       'bearing_hectares', 'bearing_trees_per_hectare',\n",
       "       'nonbearing_trees_per_hectare'],\n",
       "      dtype='object')"
      ]
     },
     "execution_count": 7,
     "metadata": {},
     "output_type": "execute_result"
    }
   ],
   "source": [
    "coffee.columns  "
   ]
  },
  {
   "cell_type": "markdown",
   "id": "cb8ff6e6",
   "metadata": {},
   "source": [
    "* Country: Country where harvest occurs (all should be Brazil).\n",
    "* subdivision: Name of sub-division (all should be Minais Gerais)\n",
    "* type: Type of coffee bean\n",
    "* 60kgs_bag: 60 kg bags of coffee beans harvested (million bags)\n",
    "* year: Year of harvest\n",
    "* nonbearing_trees: Amount of nonbearing coffee trees (million trees)\n",
    "* bearing_trees: Amount of bearing coffee trees (million trees)\n",
    "* nonbear_hectares: Hectares of nonbearing coffee trees (thousand hectares)\n",
    "* bearing_hectares_per_hectare: Average number of bearing trees per hectare\n",
    "* nonbearing_trees_per_hectare: Average number of non-bearing trees per hectare"
   ]
  },
  {
   "cell_type": "markdown",
   "id": "8ff3a2e7",
   "metadata": {},
   "source": [
    "#### Basic information about the dataset and data types"
   ]
  },
  {
   "cell_type": "code",
   "execution_count": 8,
   "id": "ed0401c5",
   "metadata": {},
   "outputs": [
    {
     "name": "stdout",
     "output_type": "stream",
     "text": [
      "<class 'pandas.core.frame.DataFrame'>\n",
      "RangeIndex: 114 entries, 0 to 113\n",
      "Data columns (total 11 columns):\n",
      " #   Column                        Non-Null Count  Dtype  \n",
      "---  ------                        --------------  -----  \n",
      " 0   country                       114 non-null    object \n",
      " 1   subdivision                   114 non-null    object \n",
      " 2   type                          114 non-null    object \n",
      " 3   60kgs_bag                     114 non-null    float64\n",
      " 4   year                          114 non-null    int64  \n",
      " 5   nonbearing_trees              109 non-null    float64\n",
      " 6   bearing_trees                 109 non-null    float64\n",
      " 7   nonbear_hectares              109 non-null    float64\n",
      " 8   bearing_hectares              109 non-null    float64\n",
      " 9   bearing_trees_per_hectare     109 non-null    float64\n",
      " 10  nonbearing_trees_per_hectare  109 non-null    float64\n",
      "dtypes: float64(7), int64(1), object(3)\n",
      "memory usage: 9.9+ KB\n"
     ]
    }
   ],
   "source": [
    "coffee.info()"
   ]
  },
  {
   "cell_type": "code",
   "execution_count": 10,
   "id": "cbee3de1",
   "metadata": {},
   "outputs": [
    {
     "data": {
      "text/plain": [
       "country                          object\n",
       "subdivision                      object\n",
       "type                             object\n",
       "60kgs_bag                       float64\n",
       "year                              int64\n",
       "nonbearing_trees                float64\n",
       "bearing_trees                   float64\n",
       "nonbear_hectares                float64\n",
       "bearing_hectares                float64\n",
       "bearing_trees_per_hectare       float64\n",
       "nonbearing_trees_per_hectare    float64\n",
       "dtype: object"
      ]
     },
     "execution_count": 10,
     "metadata": {},
     "output_type": "execute_result"
    }
   ],
   "source": [
    "coffee.dtypes"
   ]
  },
  {
   "cell_type": "markdown",
   "id": "bbc07745",
   "metadata": {},
   "source": [
    "Coffee dataset conatins 114 non-null values and 11 columns with dtypes - float64(7), int64(1), object(3)"
   ]
  },
  {
   "cell_type": "markdown",
   "id": "f1955a5f",
   "metadata": {},
   "source": [
    "#### Summary statistics"
   ]
  },
  {
   "cell_type": "code",
   "execution_count": 11,
   "id": "83e6ecbd",
   "metadata": {},
   "outputs": [
    {
     "data": {
      "text/html": [
       "<div>\n",
       "<style scoped>\n",
       "    .dataframe tbody tr th:only-of-type {\n",
       "        vertical-align: middle;\n",
       "    }\n",
       "\n",
       "    .dataframe tbody tr th {\n",
       "        vertical-align: top;\n",
       "    }\n",
       "\n",
       "    .dataframe thead th {\n",
       "        text-align: right;\n",
       "    }\n",
       "</style>\n",
       "<table border=\"1\" class=\"dataframe\">\n",
       "  <thead>\n",
       "    <tr style=\"text-align: right;\">\n",
       "      <th></th>\n",
       "      <th>count</th>\n",
       "      <th>mean</th>\n",
       "      <th>std</th>\n",
       "      <th>min</th>\n",
       "      <th>25%</th>\n",
       "      <th>50%</th>\n",
       "      <th>75%</th>\n",
       "      <th>max</th>\n",
       "    </tr>\n",
       "  </thead>\n",
       "  <tbody>\n",
       "    <tr>\n",
       "      <th>60kgs_bag</th>\n",
       "      <td>114.0</td>\n",
       "      <td>8.812281</td>\n",
       "      <td>9.051550</td>\n",
       "      <td>0.5</td>\n",
       "      <td>2.6</td>\n",
       "      <td>4.75</td>\n",
       "      <td>12.175</td>\n",
       "      <td>34.8</td>\n",
       "    </tr>\n",
       "    <tr>\n",
       "      <th>year</th>\n",
       "      <td>114.0</td>\n",
       "      <td>2012.552632</td>\n",
       "      <td>6.265642</td>\n",
       "      <td>2002.0</td>\n",
       "      <td>2007.0</td>\n",
       "      <td>2013.00</td>\n",
       "      <td>2018.000</td>\n",
       "      <td>2023.0</td>\n",
       "    </tr>\n",
       "    <tr>\n",
       "      <th>nonbearing_trees</th>\n",
       "      <td>109.0</td>\n",
       "      <td>994.495413</td>\n",
       "      <td>310.338484</td>\n",
       "      <td>466.0</td>\n",
       "      <td>679.0</td>\n",
       "      <td>1050.00</td>\n",
       "      <td>1185.000</td>\n",
       "      <td>1510.0</td>\n",
       "    </tr>\n",
       "    <tr>\n",
       "      <th>bearing_trees</th>\n",
       "      <td>109.0</td>\n",
       "      <td>5646.926606</td>\n",
       "      <td>372.684151</td>\n",
       "      <td>4465.0</td>\n",
       "      <td>5640.0</td>\n",
       "      <td>5735.00</td>\n",
       "      <td>5810.000</td>\n",
       "      <td>6200.0</td>\n",
       "    </tr>\n",
       "    <tr>\n",
       "      <th>nonbear_hectares</th>\n",
       "      <td>109.0</td>\n",
       "      <td>298.055046</td>\n",
       "      <td>97.572559</td>\n",
       "      <td>148.0</td>\n",
       "      <td>205.0</td>\n",
       "      <td>307.00</td>\n",
       "      <td>347.000</td>\n",
       "      <td>495.0</td>\n",
       "    </tr>\n",
       "    <tr>\n",
       "      <th>bearing_hectares</th>\n",
       "      <td>109.0</td>\n",
       "      <td>2146.513761</td>\n",
       "      <td>96.699000</td>\n",
       "      <td>2010.0</td>\n",
       "      <td>2070.0</td>\n",
       "      <td>2135.00</td>\n",
       "      <td>2223.000</td>\n",
       "      <td>2360.0</td>\n",
       "    </tr>\n",
       "    <tr>\n",
       "      <th>bearing_trees_per_hectare</th>\n",
       "      <td>109.0</td>\n",
       "      <td>2639.027523</td>\n",
       "      <td>245.497999</td>\n",
       "      <td>2106.0</td>\n",
       "      <td>2552.0</td>\n",
       "      <td>2679.00</td>\n",
       "      <td>2786.000</td>\n",
       "      <td>3020.0</td>\n",
       "    </tr>\n",
       "    <tr>\n",
       "      <th>nonbearing_trees_per_hectare</th>\n",
       "      <td>109.0</td>\n",
       "      <td>3345.082569</td>\n",
       "      <td>175.124513</td>\n",
       "      <td>3030.0</td>\n",
       "      <td>3191.0</td>\n",
       "      <td>3415.00</td>\n",
       "      <td>3483.000</td>\n",
       "      <td>3578.0</td>\n",
       "    </tr>\n",
       "  </tbody>\n",
       "</table>\n",
       "</div>"
      ],
      "text/plain": [
       "                              count         mean         std     min     25%  \\\n",
       "60kgs_bag                     114.0     8.812281    9.051550     0.5     2.6   \n",
       "year                          114.0  2012.552632    6.265642  2002.0  2007.0   \n",
       "nonbearing_trees              109.0   994.495413  310.338484   466.0   679.0   \n",
       "bearing_trees                 109.0  5646.926606  372.684151  4465.0  5640.0   \n",
       "nonbear_hectares              109.0   298.055046   97.572559   148.0   205.0   \n",
       "bearing_hectares              109.0  2146.513761   96.699000  2010.0  2070.0   \n",
       "bearing_trees_per_hectare     109.0  2639.027523  245.497999  2106.0  2552.0   \n",
       "nonbearing_trees_per_hectare  109.0  3345.082569  175.124513  3030.0  3191.0   \n",
       "\n",
       "                                  50%       75%     max  \n",
       "60kgs_bag                        4.75    12.175    34.8  \n",
       "year                          2013.00  2018.000  2023.0  \n",
       "nonbearing_trees              1050.00  1185.000  1510.0  \n",
       "bearing_trees                 5735.00  5810.000  6200.0  \n",
       "nonbear_hectares               307.00   347.000   495.0  \n",
       "bearing_hectares              2135.00  2223.000  2360.0  \n",
       "bearing_trees_per_hectare     2679.00  2786.000  3020.0  \n",
       "nonbearing_trees_per_hectare  3415.00  3483.000  3578.0  "
      ]
     },
     "execution_count": 11,
     "metadata": {},
     "output_type": "execute_result"
    }
   ],
   "source": [
    "coffee.describe().T"
   ]
  },
  {
   "cell_type": "markdown",
   "id": "210f6efb",
   "metadata": {},
   "source": [
    "Key observations:\n",
    "\n",
    "- The columns 60kgs_bag and year have 114 entries, while others have only 109, indicating missing values in some columns.<br>\n",
    "- The 60kgs_bag column shows a large variation, ranging from 0.5 to 34.8 units.<br>\n",
    "- The average number of bearing_trees is 5646.93, with a standard deviation of 372.68, showing moderate variability. <br>\n",
    "- The nonbear_hectares column has relatively lower values for mean, minimum, and maximum compared to other land area columns.\n"
   ]
  },
  {
   "cell_type": "markdown",
   "id": "5eb77e13",
   "metadata": {},
   "source": [
    "#### Data Quality Check: Missing Values and Duplicates"
   ]
  },
  {
   "cell_type": "code",
   "execution_count": 12,
   "id": "ab0c8b1f",
   "metadata": {},
   "outputs": [
    {
     "data": {
      "text/plain": [
       "country                         0\n",
       "subdivision                     0\n",
       "type                            0\n",
       "60kgs_bag                       0\n",
       "year                            0\n",
       "nonbearing_trees                5\n",
       "bearing_trees                   5\n",
       "nonbear_hectares                5\n",
       "bearing_hectares                5\n",
       "bearing_trees_per_hectare       5\n",
       "nonbearing_trees_per_hectare    5\n",
       "dtype: int64"
      ]
     },
     "execution_count": 12,
     "metadata": {},
     "output_type": "execute_result"
    }
   ],
   "source": [
    "# checking missing values\n",
    "coffee.isnull().sum()"
   ]
  },
  {
   "cell_type": "markdown",
   "id": "d37812a9",
   "metadata": {},
   "source": [
    "There are 5 missing values in nonbearing_trees, bearing_trees, nonbear_hectares,bearing_hectares,bearing_trees_per_hectare,nonbearing_trees_per_hectare columns "
   ]
  },
  {
   "cell_type": "code",
   "execution_count": 15,
   "id": "52ba0572",
   "metadata": {},
   "outputs": [],
   "source": [
    "# drop null values\n",
    "coffee = coffee.dropna()"
   ]
  },
  {
   "cell_type": "code",
   "execution_count": null,
   "id": "afe80e5c",
   "metadata": {},
   "outputs": [
    {
     "data": {
      "text/plain": [
       "country                         0\n",
       "subdivision                     0\n",
       "type                            0\n",
       "60kgs_bag                       0\n",
       "year                            0\n",
       "nonbearing_trees                0\n",
       "bearing_trees                   0\n",
       "nonbear_hectares                0\n",
       "bearing_hectares                0\n",
       "bearing_trees_per_hectare       0\n",
       "nonbearing_trees_per_hectare    0\n",
       "dtype: int64"
      ]
     },
     "execution_count": 19,
     "metadata": {},
     "output_type": "execute_result"
    }
   ],
   "source": [
    "# checking\n",
    "coffee.isnull().sum()"
   ]
  },
  {
   "cell_type": "code",
   "execution_count": null,
   "id": "50daa8ca",
   "metadata": {},
   "outputs": [
    {
     "data": {
      "text/plain": [
       "np.int64(4)"
      ]
     },
     "execution_count": 18,
     "metadata": {},
     "output_type": "execute_result"
    }
   ],
   "source": [
    "# checking\n",
    "coffee.duplicated().sum()"
   ]
  },
  {
   "cell_type": "code",
   "execution_count": null,
   "id": "928a1851",
   "metadata": {},
   "outputs": [
    {
     "data": {
      "text/html": [
       "<div>\n",
       "<style scoped>\n",
       "    .dataframe tbody tr th:only-of-type {\n",
       "        vertical-align: middle;\n",
       "    }\n",
       "\n",
       "    .dataframe tbody tr th {\n",
       "        vertical-align: top;\n",
       "    }\n",
       "\n",
       "    .dataframe thead th {\n",
       "        text-align: right;\n",
       "    }\n",
       "</style>\n",
       "<table border=\"1\" class=\"dataframe\">\n",
       "  <thead>\n",
       "    <tr style=\"text-align: right;\">\n",
       "      <th></th>\n",
       "      <th>country</th>\n",
       "      <th>subdivision</th>\n",
       "      <th>type</th>\n",
       "      <th>60kgs_bag</th>\n",
       "      <th>year</th>\n",
       "      <th>nonbearing_trees</th>\n",
       "      <th>bearing_trees</th>\n",
       "      <th>nonbear_hectares</th>\n",
       "      <th>bearing_hectares</th>\n",
       "      <th>bearing_trees_per_hectare</th>\n",
       "      <th>nonbearing_trees_per_hectare</th>\n",
       "    </tr>\n",
       "  </thead>\n",
       "  <tbody>\n",
       "    <tr>\n",
       "      <th>62</th>\n",
       "      <td>Brazil</td>\n",
       "      <td>Espirito Santo</td>\n",
       "      <td>Arabica</td>\n",
       "      <td>3.5</td>\n",
       "      <td>2014</td>\n",
       "      <td>1055.0</td>\n",
       "      <td>5810.0</td>\n",
       "      <td>307.0</td>\n",
       "      <td>2135.0</td>\n",
       "      <td>2721.0</td>\n",
       "      <td>3436.0</td>\n",
       "    </tr>\n",
       "    <tr>\n",
       "      <th>64</th>\n",
       "      <td>Brazil</td>\n",
       "      <td>Espirito Santo</td>\n",
       "      <td>Robusta</td>\n",
       "      <td>12.3</td>\n",
       "      <td>2014</td>\n",
       "      <td>1055.0</td>\n",
       "      <td>5810.0</td>\n",
       "      <td>307.0</td>\n",
       "      <td>2135.0</td>\n",
       "      <td>2721.0</td>\n",
       "      <td>3436.0</td>\n",
       "    </tr>\n",
       "    <tr>\n",
       "      <th>66</th>\n",
       "      <td>Brazil</td>\n",
       "      <td>Sao Paulo</td>\n",
       "      <td>Arabica</td>\n",
       "      <td>4.6</td>\n",
       "      <td>2014</td>\n",
       "      <td>1055.0</td>\n",
       "      <td>5810.0</td>\n",
       "      <td>307.0</td>\n",
       "      <td>2135.0</td>\n",
       "      <td>2721.0</td>\n",
       "      <td>3436.0</td>\n",
       "    </tr>\n",
       "    <tr>\n",
       "      <th>68</th>\n",
       "      <td>Brazil</td>\n",
       "      <td>Parana</td>\n",
       "      <td>Arabica</td>\n",
       "      <td>1.7</td>\n",
       "      <td>2014</td>\n",
       "      <td>1055.0</td>\n",
       "      <td>5810.0</td>\n",
       "      <td>307.0</td>\n",
       "      <td>2135.0</td>\n",
       "      <td>2721.0</td>\n",
       "      <td>3436.0</td>\n",
       "    </tr>\n",
       "  </tbody>\n",
       "</table>\n",
       "</div>"
      ],
      "text/plain": [
       "   country     subdivision     type  60kgs_bag  year  nonbearing_trees  \\\n",
       "62  Brazil  Espirito Santo  Arabica        3.5  2014            1055.0   \n",
       "64  Brazil  Espirito Santo  Robusta       12.3  2014            1055.0   \n",
       "66  Brazil       Sao Paulo  Arabica        4.6  2014            1055.0   \n",
       "68  Brazil          Parana  Arabica        1.7  2014            1055.0   \n",
       "\n",
       "    bearing_trees  nonbear_hectares  bearing_hectares  \\\n",
       "62         5810.0             307.0            2135.0   \n",
       "64         5810.0             307.0            2135.0   \n",
       "66         5810.0             307.0            2135.0   \n",
       "68         5810.0             307.0            2135.0   \n",
       "\n",
       "    bearing_trees_per_hectare  nonbearing_trees_per_hectare  \n",
       "62                     2721.0                        3436.0  \n",
       "64                     2721.0                        3436.0  \n",
       "66                     2721.0                        3436.0  \n",
       "68                     2721.0                        3436.0  "
      ]
     },
     "execution_count": 22,
     "metadata": {},
     "output_type": "execute_result"
    }
   ],
   "source": [
    "# Finding duplicated columns\n",
    "coffee[coffee.duplicated()]"
   ]
  },
  {
   "cell_type": "markdown",
   "id": "33c09b5d",
   "metadata": {},
   "source": [
    "Although four rows were initially flagged as duplicates, further analysis revealed that the values in the subdivision, type, and 60kgs_bag columns are different. Therefore, these are not true duplicates, and there is no need to drop any rows from the dataset."
   ]
  },
  {
   "cell_type": "markdown",
   "id": "d793da0a",
   "metadata": {},
   "source": [
    "#### Subdivision Column Analysis"
   ]
  },
  {
   "cell_type": "code",
   "execution_count": null,
   "id": "71bfd191",
   "metadata": {},
   "outputs": [
    {
     "data": {
      "text/plain": [
       "array(['Minas Gerais', 'Espirito Santo', 'Sao Paulo', 'Parana'],\n",
       "      dtype=object)"
      ]
     },
     "execution_count": 24,
     "metadata": {},
     "output_type": "execute_result"
    }
   ],
   "source": [
    "# checking unique subdivisions\n",
    "\n",
    "coffee['subdivision'].unique()"
   ]
  },
  {
   "cell_type": "code",
   "execution_count": null,
   "id": "ee4646af",
   "metadata": {},
   "outputs": [
    {
     "data": {
      "text/plain": [
       "subdivision\n",
       "Espirito Santo    44\n",
       "Sao Paulo         22\n",
       "Parana            22\n",
       "Minas Gerais      21\n",
       "Name: count, dtype: int64"
      ]
     },
     "execution_count": 25,
     "metadata": {},
     "output_type": "execute_result"
    }
   ],
   "source": [
    "# checking count for each subdivision\n",
    "\n",
    "coffee['subdivision'].value_counts()"
   ]
  },
  {
   "cell_type": "markdown",
   "id": "531d2896",
   "metadata": {},
   "source": [
    "There are four subdivisions in the dataset, but the subdivision Minas contains only 21 rows. Since our analysis focuses solely on this subdivision, we filter the data accordingly, create a new DataFrame, and save it as a separate dataset for further analysis."
   ]
  },
  {
   "cell_type": "code",
   "execution_count": null,
   "id": "51805fce",
   "metadata": {},
   "outputs": [],
   "source": [
    "# filtering only 'Minas Gerais'\n",
    "\n",
    "Minas_coffee_df = coffee[coffee['subdivision'] == 'Minas Gerais']"
   ]
  },
  {
   "cell_type": "code",
   "execution_count": null,
   "id": "798896d5",
   "metadata": {},
   "outputs": [],
   "source": [
    "# saving as new csv file\n",
    "Minas_coffee_df.to_csv(\"../data/crop/Minas_coffee_output.csv\", index=False)"
   ]
  },
  {
   "cell_type": "markdown",
   "id": "a16d3a18",
   "metadata": {},
   "source": [
    "#### Previewing the new dataset"
   ]
  },
  {
   "cell_type": "code",
   "execution_count": 30,
   "id": "b2411f0a",
   "metadata": {},
   "outputs": [
    {
     "data": {
      "text/html": [
       "<div>\n",
       "<style scoped>\n",
       "    .dataframe tbody tr th:only-of-type {\n",
       "        vertical-align: middle;\n",
       "    }\n",
       "\n",
       "    .dataframe tbody tr th {\n",
       "        vertical-align: top;\n",
       "    }\n",
       "\n",
       "    .dataframe thead th {\n",
       "        text-align: right;\n",
       "    }\n",
       "</style>\n",
       "<table border=\"1\" class=\"dataframe\">\n",
       "  <thead>\n",
       "    <tr style=\"text-align: right;\">\n",
       "      <th></th>\n",
       "      <th>country</th>\n",
       "      <th>subdivision</th>\n",
       "      <th>type</th>\n",
       "      <th>60kgs_bag</th>\n",
       "      <th>year</th>\n",
       "      <th>nonbearing_trees</th>\n",
       "      <th>bearing_trees</th>\n",
       "      <th>nonbear_hectares</th>\n",
       "      <th>bearing_hectares</th>\n",
       "      <th>bearing_trees_per_hectare</th>\n",
       "      <th>nonbearing_trees_per_hectare</th>\n",
       "    </tr>\n",
       "  </thead>\n",
       "  <tbody>\n",
       "    <tr>\n",
       "      <th>0</th>\n",
       "      <td>Brazil</td>\n",
       "      <td>Minas Gerais</td>\n",
       "      <td>Arabica</td>\n",
       "      <td>16.2</td>\n",
       "      <td>2002</td>\n",
       "      <td>1500.0</td>\n",
       "      <td>4465.0</td>\n",
       "      <td>495.0</td>\n",
       "      <td>2120.0</td>\n",
       "      <td>2106.0</td>\n",
       "      <td>3030.0</td>\n",
       "    </tr>\n",
       "    <tr>\n",
       "      <th>5</th>\n",
       "      <td>Brazil</td>\n",
       "      <td>Minas Gerais</td>\n",
       "      <td>Arabica</td>\n",
       "      <td>26.7</td>\n",
       "      <td>2003</td>\n",
       "      <td>1125.0</td>\n",
       "      <td>5265.0</td>\n",
       "      <td>315.0</td>\n",
       "      <td>2360.0</td>\n",
       "      <td>2231.0</td>\n",
       "      <td>3577.0</td>\n",
       "    </tr>\n",
       "    <tr>\n",
       "      <th>10</th>\n",
       "      <td>Brazil</td>\n",
       "      <td>Minas Gerais</td>\n",
       "      <td>Arabica</td>\n",
       "      <td>14.4</td>\n",
       "      <td>2004</td>\n",
       "      <td>631.0</td>\n",
       "      <td>5050.0</td>\n",
       "      <td>205.0</td>\n",
       "      <td>2174.0</td>\n",
       "      <td>2323.0</td>\n",
       "      <td>3075.0</td>\n",
       "    </tr>\n",
       "  </tbody>\n",
       "</table>\n",
       "</div>"
      ],
      "text/plain": [
       "   country   subdivision     type  60kgs_bag  year  nonbearing_trees  \\\n",
       "0   Brazil  Minas Gerais  Arabica       16.2  2002            1500.0   \n",
       "5   Brazil  Minas Gerais  Arabica       26.7  2003            1125.0   \n",
       "10  Brazil  Minas Gerais  Arabica       14.4  2004             631.0   \n",
       "\n",
       "    bearing_trees  nonbear_hectares  bearing_hectares  \\\n",
       "0          4465.0             495.0            2120.0   \n",
       "5          5265.0             315.0            2360.0   \n",
       "10         5050.0             205.0            2174.0   \n",
       "\n",
       "    bearing_trees_per_hectare  nonbearing_trees_per_hectare  \n",
       "0                      2106.0                        3030.0  \n",
       "5                      2231.0                        3577.0  \n",
       "10                     2323.0                        3075.0  "
      ]
     },
     "execution_count": 30,
     "metadata": {},
     "output_type": "execute_result"
    }
   ],
   "source": [
    "Minas_coffee_df.head(3)"
   ]
  },
  {
   "cell_type": "markdown",
   "id": "baddfa16",
   "metadata": {},
   "source": [
    "#### Checking new dataset dimensions"
   ]
  },
  {
   "cell_type": "code",
   "execution_count": 31,
   "id": "314388ae",
   "metadata": {},
   "outputs": [
    {
     "data": {
      "text/plain": [
       "(21, 11)"
      ]
     },
     "execution_count": 31,
     "metadata": {},
     "output_type": "execute_result"
    }
   ],
   "source": [
    "Minas_coffee_df.shape"
   ]
  },
  {
   "cell_type": "code",
   "execution_count": 36,
   "id": "e5b4de88",
   "metadata": {},
   "outputs": [
    {
     "data": {
      "text/plain": [
       "Index(['country', 'subdivision', 'type', '60kgs_bag', 'year',\n",
       "       'nonbearing_trees', 'bearing_trees', 'nonbear_hectares',\n",
       "       'bearing_hectares', 'bearing_trees_per_hectare',\n",
       "       'nonbearing_trees_per_hectare'],\n",
       "      dtype='object')"
      ]
     },
     "execution_count": 36,
     "metadata": {},
     "output_type": "execute_result"
    }
   ],
   "source": [
    "Minas_coffee_df.columns"
   ]
  },
  {
   "cell_type": "code",
   "execution_count": 34,
   "id": "2af9cb7d",
   "metadata": {},
   "outputs": [
    {
     "name": "stdout",
     "output_type": "stream",
     "text": [
      "<class 'pandas.core.frame.DataFrame'>\n",
      "Index: 21 entries, 0 to 109\n",
      "Data columns (total 11 columns):\n",
      " #   Column                        Non-Null Count  Dtype  \n",
      "---  ------                        --------------  -----  \n",
      " 0   country                       21 non-null     object \n",
      " 1   subdivision                   21 non-null     object \n",
      " 2   type                          21 non-null     object \n",
      " 3   60kgs_bag                     21 non-null     float64\n",
      " 4   year                          21 non-null     int64  \n",
      " 5   nonbearing_trees              21 non-null     float64\n",
      " 6   bearing_trees                 21 non-null     float64\n",
      " 7   nonbear_hectares              21 non-null     float64\n",
      " 8   bearing_hectares              21 non-null     float64\n",
      " 9   bearing_trees_per_hectare     21 non-null     float64\n",
      " 10  nonbearing_trees_per_hectare  21 non-null     float64\n",
      "dtypes: float64(7), int64(1), object(3)\n",
      "memory usage: 2.0+ KB\n"
     ]
    }
   ],
   "source": [
    "Minas_coffee_df.info()"
   ]
  },
  {
   "cell_type": "code",
   "execution_count": null,
   "id": "eb0b9125",
   "metadata": {},
   "outputs": [
    {
     "data": {
      "text/plain": [
       "country                         0\n",
       "subdivision                     0\n",
       "type                            0\n",
       "60kgs_bag                       0\n",
       "year                            0\n",
       "nonbearing_trees                0\n",
       "bearing_trees                   0\n",
       "nonbear_hectares                0\n",
       "bearing_hectares                0\n",
       "bearing_trees_per_hectare       0\n",
       "nonbearing_trees_per_hectare    0\n",
       "dtype: int64"
      ]
     },
     "execution_count": 38,
     "metadata": {},
     "output_type": "execute_result"
    }
   ],
   "source": [
    "# checking null\n",
    "Minas_coffee_df.isnull().sum()"
   ]
  },
  {
   "cell_type": "markdown",
   "id": "5b3b2fc0",
   "metadata": {},
   "source": [
    "number of rows : 21 <br>\n",
    "number of columns : 11 <br>\n",
    "number of missing values : 0"
   ]
  },
  {
   "cell_type": "markdown",
   "id": "35a14bdd",
   "metadata": {},
   "source": [
    "#### Summary statistics"
   ]
  },
  {
   "cell_type": "code",
   "execution_count": 35,
   "id": "d9545661",
   "metadata": {},
   "outputs": [
    {
     "data": {
      "text/html": [
       "<div>\n",
       "<style scoped>\n",
       "    .dataframe tbody tr th:only-of-type {\n",
       "        vertical-align: middle;\n",
       "    }\n",
       "\n",
       "    .dataframe tbody tr th {\n",
       "        vertical-align: top;\n",
       "    }\n",
       "\n",
       "    .dataframe thead th {\n",
       "        text-align: right;\n",
       "    }\n",
       "</style>\n",
       "<table border=\"1\" class=\"dataframe\">\n",
       "  <thead>\n",
       "    <tr style=\"text-align: right;\">\n",
       "      <th></th>\n",
       "      <th>count</th>\n",
       "      <th>mean</th>\n",
       "      <th>std</th>\n",
       "      <th>min</th>\n",
       "      <th>25%</th>\n",
       "      <th>50%</th>\n",
       "      <th>75%</th>\n",
       "      <th>max</th>\n",
       "    </tr>\n",
       "  </thead>\n",
       "  <tbody>\n",
       "    <tr>\n",
       "      <th>60kgs_bag</th>\n",
       "      <td>21.0</td>\n",
       "      <td>25.142857</td>\n",
       "      <td>5.792998</td>\n",
       "      <td>14.4</td>\n",
       "      <td>22.1</td>\n",
       "      <td>25.55</td>\n",
       "      <td>28.5</td>\n",
       "      <td>34.8</td>\n",
       "    </tr>\n",
       "    <tr>\n",
       "      <th>year</th>\n",
       "      <td>21.0</td>\n",
       "      <td>2012.238095</td>\n",
       "      <td>6.533795</td>\n",
       "      <td>2002.0</td>\n",
       "      <td>2007.0</td>\n",
       "      <td>2012.00</td>\n",
       "      <td>2017.0</td>\n",
       "      <td>2023.0</td>\n",
       "    </tr>\n",
       "    <tr>\n",
       "      <th>nonbearing_trees</th>\n",
       "      <td>21.0</td>\n",
       "      <td>992.190476</td>\n",
       "      <td>322.277461</td>\n",
       "      <td>466.0</td>\n",
       "      <td>679.0</td>\n",
       "      <td>1050.00</td>\n",
       "      <td>1185.0</td>\n",
       "      <td>1510.0</td>\n",
       "    </tr>\n",
       "    <tr>\n",
       "      <th>bearing_trees</th>\n",
       "      <td>21.0</td>\n",
       "      <td>5640.714286</td>\n",
       "      <td>385.876553</td>\n",
       "      <td>4465.0</td>\n",
       "      <td>5640.0</td>\n",
       "      <td>5735.00</td>\n",
       "      <td>5810.0</td>\n",
       "      <td>6200.0</td>\n",
       "    </tr>\n",
       "    <tr>\n",
       "      <th>nonbear_hectares</th>\n",
       "      <td>21.0</td>\n",
       "      <td>297.714286</td>\n",
       "      <td>101.383994</td>\n",
       "      <td>148.0</td>\n",
       "      <td>205.0</td>\n",
       "      <td>307.00</td>\n",
       "      <td>347.0</td>\n",
       "      <td>495.0</td>\n",
       "    </tr>\n",
       "    <tr>\n",
       "      <th>bearing_hectares</th>\n",
       "      <td>21.0</td>\n",
       "      <td>2146.952381</td>\n",
       "      <td>100.465156</td>\n",
       "      <td>2010.0</td>\n",
       "      <td>2070.0</td>\n",
       "      <td>2135.00</td>\n",
       "      <td>2223.0</td>\n",
       "      <td>2360.0</td>\n",
       "    </tr>\n",
       "    <tr>\n",
       "      <th>bearing_trees_per_hectare</th>\n",
       "      <td>21.0</td>\n",
       "      <td>2635.904762</td>\n",
       "      <td>254.581599</td>\n",
       "      <td>2106.0</td>\n",
       "      <td>2552.0</td>\n",
       "      <td>2679.00</td>\n",
       "      <td>2786.0</td>\n",
       "      <td>3020.0</td>\n",
       "    </tr>\n",
       "    <tr>\n",
       "      <th>nonbearing_trees_per_hectare</th>\n",
       "      <td>21.0</td>\n",
       "      <td>3341.619048</td>\n",
       "      <td>181.049296</td>\n",
       "      <td>3030.0</td>\n",
       "      <td>3191.0</td>\n",
       "      <td>3415.00</td>\n",
       "      <td>3483.0</td>\n",
       "      <td>3578.0</td>\n",
       "    </tr>\n",
       "  </tbody>\n",
       "</table>\n",
       "</div>"
      ],
      "text/plain": [
       "                              count         mean         std     min     25%  \\\n",
       "60kgs_bag                      21.0    25.142857    5.792998    14.4    22.1   \n",
       "year                           21.0  2012.238095    6.533795  2002.0  2007.0   \n",
       "nonbearing_trees               21.0   992.190476  322.277461   466.0   679.0   \n",
       "bearing_trees                  21.0  5640.714286  385.876553  4465.0  5640.0   \n",
       "nonbear_hectares               21.0   297.714286  101.383994   148.0   205.0   \n",
       "bearing_hectares               21.0  2146.952381  100.465156  2010.0  2070.0   \n",
       "bearing_trees_per_hectare      21.0  2635.904762  254.581599  2106.0  2552.0   \n",
       "nonbearing_trees_per_hectare   21.0  3341.619048  181.049296  3030.0  3191.0   \n",
       "\n",
       "                                  50%     75%     max  \n",
       "60kgs_bag                       25.55    28.5    34.8  \n",
       "year                          2012.00  2017.0  2023.0  \n",
       "nonbearing_trees              1050.00  1185.0  1510.0  \n",
       "bearing_trees                 5735.00  5810.0  6200.0  \n",
       "nonbear_hectares               307.00   347.0   495.0  \n",
       "bearing_hectares              2135.00  2223.0  2360.0  \n",
       "bearing_trees_per_hectare     2679.00  2786.0  3020.0  \n",
       "nonbearing_trees_per_hectare  3415.00  3483.0  3578.0  "
      ]
     },
     "execution_count": 35,
     "metadata": {},
     "output_type": "execute_result"
    }
   ],
   "source": [
    "Minas_coffee_df.describe().T"
   ]
  },
  {
   "cell_type": "markdown",
   "id": "7851ebdb",
   "metadata": {},
   "source": [
    "Key observations:\n",
    "\n",
    "- In the Minas Gerais subdivision, coffee harvested (60kgs_bag) ranges from a maximum of 34.8 to a minimum of 14.4, with a mean of 25.14.\n",
    "- The mean number of bearing trees is relatively high at 5640.71, while the mean for nonbearing trees is much lower at 297.71.\n",
    "- These patterns closely match the observations made when analyzing the entire dataset across all subdivisions, indicating consistent trends.\n"
   ]
  },
  {
   "cell_type": "markdown",
   "id": "681d8398",
   "metadata": {},
   "source": [
    "#### type column Analysis "
   ]
  },
  {
   "cell_type": "markdown",
   "id": "22f5f9f0",
   "metadata": {},
   "source": [
    "checking the type column for records in the Minas Gerais subdivision to identify the variety of coffee grown."
   ]
  },
  {
   "cell_type": "code",
   "execution_count": null,
   "id": "965c217e",
   "metadata": {},
   "outputs": [
    {
     "data": {
      "text/plain": [
       "type\n",
       "Arabica    21\n",
       "Name: count, dtype: int64"
      ]
     },
     "execution_count": 61,
     "metadata": {},
     "output_type": "execute_result"
    }
   ],
   "source": [
    "\n",
    "Minas_coffee_df['type'].value_counts()"
   ]
  },
  {
   "cell_type": "markdown",
   "id": "a81b60bf",
   "metadata": {},
   "source": [
    "The output shows that only Arabica coffee is grown in Minas Gerais, with no other coffee types present in the dataset for this region."
   ]
  },
  {
   "cell_type": "markdown",
   "id": "ae1ccaf9",
   "metadata": {},
   "source": [
    "#### 60_kgs_bag column Analysis"
   ]
  },
  {
   "cell_type": "code",
   "execution_count": 62,
   "id": "6f0e1d53",
   "metadata": {},
   "outputs": [
    {
     "data": {
      "text/html": [
       "<div>\n",
       "<style scoped>\n",
       "    .dataframe tbody tr th:only-of-type {\n",
       "        vertical-align: middle;\n",
       "    }\n",
       "\n",
       "    .dataframe tbody tr th {\n",
       "        vertical-align: top;\n",
       "    }\n",
       "\n",
       "    .dataframe thead th {\n",
       "        text-align: right;\n",
       "    }\n",
       "</style>\n",
       "<table border=\"1\" class=\"dataframe\">\n",
       "  <thead>\n",
       "    <tr style=\"text-align: right;\">\n",
       "      <th></th>\n",
       "      <th>country</th>\n",
       "      <th>subdivision</th>\n",
       "      <th>type</th>\n",
       "      <th>60kgs_bag</th>\n",
       "      <th>year</th>\n",
       "      <th>nonbearing_trees</th>\n",
       "      <th>bearing_trees</th>\n",
       "      <th>nonbear_hectares</th>\n",
       "      <th>bearing_hectares</th>\n",
       "      <th>bearing_trees_per_hectare</th>\n",
       "      <th>nonbearing_trees_per_hectare</th>\n",
       "    </tr>\n",
       "  </thead>\n",
       "  <tbody>\n",
       "    <tr>\n",
       "      <th>99</th>\n",
       "      <td>Brazil</td>\n",
       "      <td>Minas Gerais</td>\n",
       "      <td>Arabica</td>\n",
       "      <td>34.8</td>\n",
       "      <td>2021</td>\n",
       "      <td>1050.0</td>\n",
       "      <td>6200.0</td>\n",
       "      <td>320.0</td>\n",
       "      <td>2100.0</td>\n",
       "      <td>2952.0</td>\n",
       "      <td>3281.0</td>\n",
       "    </tr>\n",
       "  </tbody>\n",
       "</table>\n",
       "</div>"
      ],
      "text/plain": [
       "   country   subdivision     type  60kgs_bag  year  nonbearing_trees  \\\n",
       "99  Brazil  Minas Gerais  Arabica       34.8  2021            1050.0   \n",
       "\n",
       "    bearing_trees  nonbear_hectares  bearing_hectares  \\\n",
       "99         6200.0             320.0            2100.0   \n",
       "\n",
       "    bearing_trees_per_hectare  nonbearing_trees_per_hectare  \n",
       "99                     2952.0                        3281.0  "
      ]
     },
     "execution_count": 62,
     "metadata": {},
     "output_type": "execute_result"
    }
   ],
   "source": [
    "Minas_coffee_df.sort_values('60kgs_bag', ascending = False).head(1)"
   ]
  },
  {
   "cell_type": "markdown",
   "id": "ea7dc94d",
   "metadata": {},
   "source": [
    "The highest coffee harvest in Minas Gerais occurred in 2021, with approximately 34.8 units of 60kgs_bag, supported by around 6,200 bearing trees, and the coffee type was Arabica."
   ]
  },
  {
   "cell_type": "markdown",
   "id": "a33e1db5",
   "metadata": {},
   "source": [
    "## Reflections"
   ]
  },
  {
   "cell_type": "markdown",
   "id": "2758dd5a",
   "metadata": {},
   "source": [
    "#### Average Bearing Trees by Year - Minas Gerais"
   ]
  },
  {
   "cell_type": "markdown",
   "id": "fe46532b",
   "metadata": {},
   "source": [
    "How is bearing trees changing across the years for Minas Gerais? Is this increasing or decreasing? What is the distribution of this variable? Is it normal?"
   ]
  },
  {
   "cell_type": "code",
   "execution_count": 39,
   "id": "66673eb4",
   "metadata": {},
   "outputs": [
    {
     "data": {
      "text/html": [
       "<div>\n",
       "<style scoped>\n",
       "    .dataframe tbody tr th:only-of-type {\n",
       "        vertical-align: middle;\n",
       "    }\n",
       "\n",
       "    .dataframe tbody tr th {\n",
       "        vertical-align: top;\n",
       "    }\n",
       "\n",
       "    .dataframe thead th {\n",
       "        text-align: right;\n",
       "    }\n",
       "</style>\n",
       "<table border=\"1\" class=\"dataframe\">\n",
       "  <thead>\n",
       "    <tr style=\"text-align: right;\">\n",
       "      <th></th>\n",
       "      <th>year</th>\n",
       "      <th>bearing_trees</th>\n",
       "    </tr>\n",
       "  </thead>\n",
       "  <tbody>\n",
       "    <tr>\n",
       "      <th>0</th>\n",
       "      <td>2002</td>\n",
       "      <td>4465.0</td>\n",
       "    </tr>\n",
       "    <tr>\n",
       "      <th>5</th>\n",
       "      <td>2003</td>\n",
       "      <td>5265.0</td>\n",
       "    </tr>\n",
       "    <tr>\n",
       "      <th>10</th>\n",
       "      <td>2004</td>\n",
       "      <td>5050.0</td>\n",
       "    </tr>\n",
       "    <tr>\n",
       "      <th>15</th>\n",
       "      <td>2005</td>\n",
       "      <td>5255.0</td>\n",
       "    </tr>\n",
       "    <tr>\n",
       "      <th>20</th>\n",
       "      <td>2006</td>\n",
       "      <td>5330.0</td>\n",
       "    </tr>\n",
       "    <tr>\n",
       "      <th>25</th>\n",
       "      <td>2007</td>\n",
       "      <td>5730.0</td>\n",
       "    </tr>\n",
       "    <tr>\n",
       "      <th>30</th>\n",
       "      <td>2008</td>\n",
       "      <td>5720.0</td>\n",
       "    </tr>\n",
       "    <tr>\n",
       "      <th>35</th>\n",
       "      <td>2009</td>\n",
       "      <td>5770.0</td>\n",
       "    </tr>\n",
       "    <tr>\n",
       "      <th>40</th>\n",
       "      <td>2010</td>\n",
       "      <td>5725.0</td>\n",
       "    </tr>\n",
       "    <tr>\n",
       "      <th>45</th>\n",
       "      <td>2011</td>\n",
       "      <td>5820.0</td>\n",
       "    </tr>\n",
       "    <tr>\n",
       "      <th>50</th>\n",
       "      <td>2012</td>\n",
       "      <td>5760.0</td>\n",
       "    </tr>\n",
       "    <tr>\n",
       "      <th>55</th>\n",
       "      <td>2013</td>\n",
       "      <td>5860.0</td>\n",
       "    </tr>\n",
       "    <tr>\n",
       "      <th>60</th>\n",
       "      <td>2014</td>\n",
       "      <td>5810.0</td>\n",
       "    </tr>\n",
       "    <tr>\n",
       "      <th>69</th>\n",
       "      <td>2015</td>\n",
       "      <td>5770.0</td>\n",
       "    </tr>\n",
       "    <tr>\n",
       "      <th>74</th>\n",
       "      <td>2016</td>\n",
       "      <td>5735.0</td>\n",
       "    </tr>\n",
       "    <tr>\n",
       "      <th>79</th>\n",
       "      <td>2017</td>\n",
       "      <td>5640.0</td>\n",
       "    </tr>\n",
       "    <tr>\n",
       "      <th>89</th>\n",
       "      <td>2019</td>\n",
       "      <td>5740.0</td>\n",
       "    </tr>\n",
       "    <tr>\n",
       "      <th>94</th>\n",
       "      <td>2020</td>\n",
       "      <td>5700.0</td>\n",
       "    </tr>\n",
       "    <tr>\n",
       "      <th>99</th>\n",
       "      <td>2021</td>\n",
       "      <td>6200.0</td>\n",
       "    </tr>\n",
       "    <tr>\n",
       "      <th>104</th>\n",
       "      <td>2022</td>\n",
       "      <td>6010.0</td>\n",
       "    </tr>\n",
       "    <tr>\n",
       "      <th>109</th>\n",
       "      <td>2023</td>\n",
       "      <td>6100.0</td>\n",
       "    </tr>\n",
       "  </tbody>\n",
       "</table>\n",
       "</div>"
      ],
      "text/plain": [
       "     year  bearing_trees\n",
       "0    2002         4465.0\n",
       "5    2003         5265.0\n",
       "10   2004         5050.0\n",
       "15   2005         5255.0\n",
       "20   2006         5330.0\n",
       "25   2007         5730.0\n",
       "30   2008         5720.0\n",
       "35   2009         5770.0\n",
       "40   2010         5725.0\n",
       "45   2011         5820.0\n",
       "50   2012         5760.0\n",
       "55   2013         5860.0\n",
       "60   2014         5810.0\n",
       "69   2015         5770.0\n",
       "74   2016         5735.0\n",
       "79   2017         5640.0\n",
       "89   2019         5740.0\n",
       "94   2020         5700.0\n",
       "99   2021         6200.0\n",
       "104  2022         6010.0\n",
       "109  2023         6100.0"
      ]
     },
     "execution_count": 39,
     "metadata": {},
     "output_type": "execute_result"
    }
   ],
   "source": [
    "#checking columns\n",
    "Minas_coffee_df[['year','bearing_trees']]"
   ]
  },
  {
   "cell_type": "markdown",
   "id": "81541917",
   "metadata": {},
   "source": [
    "#### DATA VISUALISATION "
   ]
  },
  {
   "cell_type": "markdown",
   "id": "69e95349",
   "metadata": {},
   "source": [
    "Plotting a line graph using the year and bearing trees columns, to visualize how the bearing trees has changed over the years."
   ]
  },
  {
   "cell_type": "code",
   "execution_count": 40,
   "id": "fa7dc93b",
   "metadata": {},
   "outputs": [
    {
     "data": {
      "image/png": "[encoded data removed]",
      "text/plain": [
       "<Figure size 1000x600 with 1 Axes>"
      ]
     },
     "metadata": {},
     "output_type": "display_data"
    }
   ],
   "source": [
    "# plotting line gragh\n",
    "plt.figure(figsize=(10, 6))\n",
    "plt.xticks(Minas_coffee_df['year']) \n",
    "plt.plot(Minas_coffee_df['year'],Minas_coffee_df['bearing_trees'])\n",
    "\n",
    "plt.xlabel('Years')\n",
    "plt.ylabel('Bearing Coffee Trees(millions)')\n",
    "plt.title('Bearing Coffee Trees (2002 - 2023)')\n",
    "plt.grid(True)\n",
    "plt.tight_layout()\n"
   ]
  },
  {
   "cell_type": "markdown",
   "id": "19f8efd9",
   "metadata": {},
   "source": [
    "To understand the distribution of coffee-bearing trees in the Minas Gerais subdivision, we plot a histogram of the bearing_trees column."
   ]
  },
  {
   "cell_type": "code",
   "execution_count": 41,
   "id": "82983702",
   "metadata": {},
   "outputs": [
    {
     "data": {
      "image/png": "[encoded data removed]",
      "text/plain": [
       "<Figure size 640x480 with 1 Axes>"
      ]
     },
     "metadata": {},
     "output_type": "display_data"
    }
   ],
   "source": [
    "# plotting histogram\n",
    "plt.hist(Minas_coffee_df['bearing_trees'], bins=30)\n",
    "plt.title('Bearing Coffee Trees (2002-2023)')\n",
    "plt.xlabel('Bearing Coffee Trees (millions)')\n",
    "plt.ylabel('Frequency')\n",
    "plt.show()\n"
   ]
  },
  {
   "cell_type": "markdown",
   "id": "82acce8d",
   "metadata": {},
   "source": [
    "Answer:\n",
    "\n",
    "Over the analyzed period, the amount of bearing coffee trees in Minas Gerais has shown a consistent upward trend. In 2002, the number of bearing trees was approximately 4500 million, and by 2023, this figure had increased to around 6100 million.\n",
    "\n",
    "This indicates a steady growth in bearing trees over the years.\n",
    "\n",
    "The distribution is slightly right skewed and not perfectly normal. Most of the observations are clustered around 5700–5900 trees. ie, recent years have generally higher numbers of bearing trees.\n",
    "\n"
   ]
  },
  {
   "cell_type": "markdown",
   "id": "043f6e43",
   "metadata": {},
   "source": [
    "__________"
   ]
  },
  {
   "cell_type": "markdown",
   "id": "0bd25893",
   "metadata": {},
   "source": [
    "#### Average Bearing Hectares by Year - Minas Gerais"
   ]
  },
  {
   "cell_type": "markdown",
   "id": "ccd4f1e8",
   "metadata": {},
   "source": [
    "How is bearing hectares changing across the years for Minas Gerais? Is this increasing or decreasing? What is the distribution of this variable? Is it normal?\n"
   ]
  },
  {
   "cell_type": "code",
   "execution_count": 42,
   "id": "58808dcf",
   "metadata": {},
   "outputs": [
    {
     "data": {
      "text/html": [
       "<div>\n",
       "<style scoped>\n",
       "    .dataframe tbody tr th:only-of-type {\n",
       "        vertical-align: middle;\n",
       "    }\n",
       "\n",
       "    .dataframe tbody tr th {\n",
       "        vertical-align: top;\n",
       "    }\n",
       "\n",
       "    .dataframe thead th {\n",
       "        text-align: right;\n",
       "    }\n",
       "</style>\n",
       "<table border=\"1\" class=\"dataframe\">\n",
       "  <thead>\n",
       "    <tr style=\"text-align: right;\">\n",
       "      <th></th>\n",
       "      <th>year</th>\n",
       "      <th>bearing_hectares</th>\n",
       "    </tr>\n",
       "  </thead>\n",
       "  <tbody>\n",
       "    <tr>\n",
       "      <th>0</th>\n",
       "      <td>2002</td>\n",
       "      <td>2120.0</td>\n",
       "    </tr>\n",
       "    <tr>\n",
       "      <th>5</th>\n",
       "      <td>2003</td>\n",
       "      <td>2360.0</td>\n",
       "    </tr>\n",
       "    <tr>\n",
       "      <th>10</th>\n",
       "      <td>2004</td>\n",
       "      <td>2174.0</td>\n",
       "    </tr>\n",
       "    <tr>\n",
       "      <th>15</th>\n",
       "      <td>2005</td>\n",
       "      <td>2305.0</td>\n",
       "    </tr>\n",
       "    <tr>\n",
       "      <th>20</th>\n",
       "      <td>2006</td>\n",
       "      <td>2298.0</td>\n",
       "    </tr>\n",
       "    <tr>\n",
       "      <th>25</th>\n",
       "      <td>2007</td>\n",
       "      <td>2245.0</td>\n",
       "    </tr>\n",
       "    <tr>\n",
       "      <th>30</th>\n",
       "      <td>2008</td>\n",
       "      <td>2235.0</td>\n",
       "    </tr>\n",
       "    <tr>\n",
       "      <th>35</th>\n",
       "      <td>2009</td>\n",
       "      <td>2223.0</td>\n",
       "    </tr>\n",
       "    <tr>\n",
       "      <th>40</th>\n",
       "      <td>2010</td>\n",
       "      <td>2151.0</td>\n",
       "    </tr>\n",
       "    <tr>\n",
       "      <th>45</th>\n",
       "      <td>2011</td>\n",
       "      <td>2175.0</td>\n",
       "    </tr>\n",
       "    <tr>\n",
       "      <th>50</th>\n",
       "      <td>2012</td>\n",
       "      <td>2150.0</td>\n",
       "    </tr>\n",
       "    <tr>\n",
       "      <th>55</th>\n",
       "      <td>2013</td>\n",
       "      <td>2105.0</td>\n",
       "    </tr>\n",
       "    <tr>\n",
       "      <th>60</th>\n",
       "      <td>2014</td>\n",
       "      <td>2135.0</td>\n",
       "    </tr>\n",
       "    <tr>\n",
       "      <th>69</th>\n",
       "      <td>2015</td>\n",
       "      <td>2090.0</td>\n",
       "    </tr>\n",
       "    <tr>\n",
       "      <th>74</th>\n",
       "      <td>2016</td>\n",
       "      <td>2070.0</td>\n",
       "    </tr>\n",
       "    <tr>\n",
       "      <th>79</th>\n",
       "      <td>2017</td>\n",
       "      <td>2020.0</td>\n",
       "    </tr>\n",
       "    <tr>\n",
       "      <th>89</th>\n",
       "      <td>2019</td>\n",
       "      <td>2060.0</td>\n",
       "    </tr>\n",
       "    <tr>\n",
       "      <th>94</th>\n",
       "      <td>2020</td>\n",
       "      <td>2040.0</td>\n",
       "    </tr>\n",
       "    <tr>\n",
       "      <th>99</th>\n",
       "      <td>2021</td>\n",
       "      <td>2100.0</td>\n",
       "    </tr>\n",
       "    <tr>\n",
       "      <th>104</th>\n",
       "      <td>2022</td>\n",
       "      <td>2010.0</td>\n",
       "    </tr>\n",
       "    <tr>\n",
       "      <th>109</th>\n",
       "      <td>2023</td>\n",
       "      <td>2020.0</td>\n",
       "    </tr>\n",
       "  </tbody>\n",
       "</table>\n",
       "</div>"
      ],
      "text/plain": [
       "     year  bearing_hectares\n",
       "0    2002            2120.0\n",
       "5    2003            2360.0\n",
       "10   2004            2174.0\n",
       "15   2005            2305.0\n",
       "20   2006            2298.0\n",
       "25   2007            2245.0\n",
       "30   2008            2235.0\n",
       "35   2009            2223.0\n",
       "40   2010            2151.0\n",
       "45   2011            2175.0\n",
       "50   2012            2150.0\n",
       "55   2013            2105.0\n",
       "60   2014            2135.0\n",
       "69   2015            2090.0\n",
       "74   2016            2070.0\n",
       "79   2017            2020.0\n",
       "89   2019            2060.0\n",
       "94   2020            2040.0\n",
       "99   2021            2100.0\n",
       "104  2022            2010.0\n",
       "109  2023            2020.0"
      ]
     },
     "execution_count": 42,
     "metadata": {},
     "output_type": "execute_result"
    }
   ],
   "source": [
    "#checking columns\n",
    "Minas_coffee_df[['year','bearing_hectares']]"
   ]
  },
  {
   "cell_type": "markdown",
   "id": "38fe7ead",
   "metadata": {},
   "source": [
    "#### DATA VISUALISATION "
   ]
  },
  {
   "cell_type": "markdown",
   "id": "a4d3219d",
   "metadata": {},
   "source": [
    "Plotting a line graph using the year and bearing hectares columns, to visualize how the bearing hectares has changed over the years."
   ]
  },
  {
   "cell_type": "code",
   "execution_count": 43,
   "id": "b272b79f",
   "metadata": {},
   "outputs": [
    {
     "data": {
      "image/png": "[encoded data removed]",
      "text/plain": [
       "<Figure size 1000x600 with 1 Axes>"
      ]
     },
     "metadata": {},
     "output_type": "display_data"
    }
   ],
   "source": [
    "# plotting line graph\n",
    "plt.figure(figsize=(10, 6))\n",
    "plt.xticks(Minas_coffee_df['year']) \n",
    "plt.plot(Minas_coffee_df['year'],Minas_coffee_df['bearing_hectares'])\n",
    "\n",
    "plt.xlabel('Years')\n",
    "plt.ylabel('Hectares(thousands)')\n",
    "plt.title('Bearing Coffee Trees Hectares (2002-2023)')\n",
    "plt.grid(True)\n",
    "plt.tight_layout()"
   ]
  },
  {
   "cell_type": "markdown",
   "id": "86446ae3",
   "metadata": {},
   "source": [
    "To understand the distribution of coffee-bearing hectares in the Minas Gerais subdivision, we plot a histogram of the bearing hectares column."
   ]
  },
  {
   "cell_type": "code",
   "execution_count": 44,
   "id": "9f8e7eff",
   "metadata": {},
   "outputs": [
    {
     "data": {
      "image/png": "[encoded data removed]",
      "text/plain": [
       "<Figure size 640x480 with 1 Axes>"
      ]
     },
     "metadata": {},
     "output_type": "display_data"
    }
   ],
   "source": [
    "# plotting histogram\n",
    "plt.hist(Minas_coffee_df['bearing_hectares'], bins=40)\n",
    "plt.title('Bearing Coffee Trees Hectares(2002-2023)')\n",
    "plt.xlabel('Hectares - Bearing coffee Trees (thousands)')\n",
    "plt.ylabel('Frequency')\n",
    "plt.show()\n"
   ]
  },
  {
   "cell_type": "markdown",
   "id": "2bf27477",
   "metadata": {},
   "source": [
    "Answer:\n",
    "\n",
    "The line plot of bearing hectares vs. years clearly shows a declining trend from 2002 to 2023. In 2003, the area peaked around 2,360 thousand hectares. After 2003, there was a gradual and steady decrease in the number of hectares used for bearing coffee trees. By 2023, the area declined to around 2,010 thousand hectares. Although there are some small fluctuations (minor rises and falls in certain years like 2005, 2010, and 2020), the overall pattern is downward.\n",
    "\n",
    "The distribution of hectare values is slightly left-skewed, with most of the data concentrated between 2000 and 2180 thousand hectares. Although minor fluctuations are observed in some years, the overall pattern reflects a persistent reduction in the area used for bearing coffee trees over the last two decades.\n",
    "The distribution does not follow a perfect normal distribution curve.\n"
   ]
  },
  {
   "cell_type": "markdown",
   "id": "73f94674",
   "metadata": {},
   "source": [
    "____________"
   ]
  },
  {
   "cell_type": "markdown",
   "id": "90105cf3",
   "metadata": {},
   "source": [
    "####  60kgs_bag by Year - Minas Gerais"
   ]
  },
  {
   "cell_type": "markdown",
   "id": "0b500aa4",
   "metadata": {},
   "source": [
    "How is the count of million 60kgs bags of coffee changing across the years for Minas Gerais? Is this increasing or decreasing? What is the distribution of this variable? Is it normal?"
   ]
  },
  {
   "cell_type": "code",
   "execution_count": 45,
   "id": "21ed7a0a",
   "metadata": {},
   "outputs": [
    {
     "data": {
      "text/html": [
       "<div>\n",
       "<style scoped>\n",
       "    .dataframe tbody tr th:only-of-type {\n",
       "        vertical-align: middle;\n",
       "    }\n",
       "\n",
       "    .dataframe tbody tr th {\n",
       "        vertical-align: top;\n",
       "    }\n",
       "\n",
       "    .dataframe thead th {\n",
       "        text-align: right;\n",
       "    }\n",
       "</style>\n",
       "<table border=\"1\" class=\"dataframe\">\n",
       "  <thead>\n",
       "    <tr style=\"text-align: right;\">\n",
       "      <th></th>\n",
       "      <th>year</th>\n",
       "      <th>60kgs_bag</th>\n",
       "    </tr>\n",
       "  </thead>\n",
       "  <tbody>\n",
       "    <tr>\n",
       "      <th>0</th>\n",
       "      <td>2002</td>\n",
       "      <td>16.20</td>\n",
       "    </tr>\n",
       "    <tr>\n",
       "      <th>5</th>\n",
       "      <td>2003</td>\n",
       "      <td>26.70</td>\n",
       "    </tr>\n",
       "    <tr>\n",
       "      <th>10</th>\n",
       "      <td>2004</td>\n",
       "      <td>14.40</td>\n",
       "    </tr>\n",
       "    <tr>\n",
       "      <th>15</th>\n",
       "      <td>2005</td>\n",
       "      <td>21.40</td>\n",
       "    </tr>\n",
       "    <tr>\n",
       "      <th>20</th>\n",
       "      <td>2006</td>\n",
       "      <td>16.30</td>\n",
       "    </tr>\n",
       "    <tr>\n",
       "      <th>25</th>\n",
       "      <td>2007</td>\n",
       "      <td>23.70</td>\n",
       "    </tr>\n",
       "    <tr>\n",
       "      <th>30</th>\n",
       "      <td>2008</td>\n",
       "      <td>16.85</td>\n",
       "    </tr>\n",
       "    <tr>\n",
       "      <th>35</th>\n",
       "      <td>2009</td>\n",
       "      <td>25.55</td>\n",
       "    </tr>\n",
       "    <tr>\n",
       "      <th>40</th>\n",
       "      <td>2010</td>\n",
       "      <td>22.10</td>\n",
       "    </tr>\n",
       "    <tr>\n",
       "      <th>45</th>\n",
       "      <td>2011</td>\n",
       "      <td>28.50</td>\n",
       "    </tr>\n",
       "    <tr>\n",
       "      <th>50</th>\n",
       "      <td>2012</td>\n",
       "      <td>23.50</td>\n",
       "    </tr>\n",
       "    <tr>\n",
       "      <th>55</th>\n",
       "      <td>2013</td>\n",
       "      <td>28.50</td>\n",
       "    </tr>\n",
       "    <tr>\n",
       "      <th>60</th>\n",
       "      <td>2014</td>\n",
       "      <td>29.40</td>\n",
       "    </tr>\n",
       "    <tr>\n",
       "      <th>69</th>\n",
       "      <td>2015</td>\n",
       "      <td>26.00</td>\n",
       "    </tr>\n",
       "    <tr>\n",
       "      <th>74</th>\n",
       "      <td>2016</td>\n",
       "      <td>25.30</td>\n",
       "    </tr>\n",
       "    <tr>\n",
       "      <th>79</th>\n",
       "      <td>2017</td>\n",
       "      <td>32.50</td>\n",
       "    </tr>\n",
       "    <tr>\n",
       "      <th>89</th>\n",
       "      <td>2019</td>\n",
       "      <td>34.20</td>\n",
       "    </tr>\n",
       "    <tr>\n",
       "      <th>94</th>\n",
       "      <td>2020</td>\n",
       "      <td>29.10</td>\n",
       "    </tr>\n",
       "    <tr>\n",
       "      <th>99</th>\n",
       "      <td>2021</td>\n",
       "      <td>34.80</td>\n",
       "    </tr>\n",
       "    <tr>\n",
       "      <th>104</th>\n",
       "      <td>2022</td>\n",
       "      <td>24.50</td>\n",
       "    </tr>\n",
       "    <tr>\n",
       "      <th>109</th>\n",
       "      <td>2023</td>\n",
       "      <td>28.50</td>\n",
       "    </tr>\n",
       "  </tbody>\n",
       "</table>\n",
       "</div>"
      ],
      "text/plain": [
       "     year  60kgs_bag\n",
       "0    2002      16.20\n",
       "5    2003      26.70\n",
       "10   2004      14.40\n",
       "15   2005      21.40\n",
       "20   2006      16.30\n",
       "25   2007      23.70\n",
       "30   2008      16.85\n",
       "35   2009      25.55\n",
       "40   2010      22.10\n",
       "45   2011      28.50\n",
       "50   2012      23.50\n",
       "55   2013      28.50\n",
       "60   2014      29.40\n",
       "69   2015      26.00\n",
       "74   2016      25.30\n",
       "79   2017      32.50\n",
       "89   2019      34.20\n",
       "94   2020      29.10\n",
       "99   2021      34.80\n",
       "104  2022      24.50\n",
       "109  2023      28.50"
      ]
     },
     "execution_count": 45,
     "metadata": {},
     "output_type": "execute_result"
    }
   ],
   "source": [
    "# checking columns\n",
    "Minas_coffee_df[['year','60kgs_bag']]"
   ]
  },
  {
   "cell_type": "markdown",
   "id": "c04af7e8",
   "metadata": {},
   "source": [
    "#### DATA VISUALISATION"
   ]
  },
  {
   "cell_type": "markdown",
   "id": "b6c1a159",
   "metadata": {},
   "source": [
    "Plotting a line graph using the year and 60kgs_bag columns, to visualize how the coffee harvested has changed over the years."
   ]
  },
  {
   "cell_type": "code",
   "execution_count": 46,
   "id": "db604973",
   "metadata": {},
   "outputs": [
    {
     "data": {
      "image/png": "[encoded data removed]",
      "text/plain": [
       "<Figure size 1000x600 with 1 Axes>"
      ]
     },
     "metadata": {},
     "output_type": "display_data"
    }
   ],
   "source": [
    "# plotting line graph \n",
    "plt.figure(figsize=(10, 6))\n",
    "plt.xticks(Minas_coffee_df['year']) \n",
    "plt.plot(Minas_coffee_df['year'],Minas_coffee_df['60kgs_bag'])\n",
    "\n",
    "plt.xlabel('Year')\n",
    "plt.ylabel('Coffee Harvested (millions)')\n",
    "plt.title('60kgbags - Coffee Harvested (2002 - 2023')\n",
    "plt.grid(True)\n",
    "plt.tight_layout()"
   ]
  },
  {
   "cell_type": "markdown",
   "id": "2901ff6a",
   "metadata": {},
   "source": [
    "To understand the distribution of coffee harvested in the Minas Gerais subdivision, we plot a histogram of the 60kgs_bags column."
   ]
  },
  {
   "cell_type": "code",
   "execution_count": 47,
   "id": "b7cf739c",
   "metadata": {},
   "outputs": [
    {
     "data": {
      "image/png": "[encoded data removed]",
      "text/plain": [
       "<Figure size 640x480 with 1 Axes>"
      ]
     },
     "metadata": {},
     "output_type": "display_data"
    }
   ],
   "source": [
    "# Plotting histogram\n",
    "plt.hist(Minas_coffee_df['60kgs_bag'], bins=30)\n",
    "plt.title('Coffee Harvested (2002 - 2023)')\n",
    "plt.xlabel('Coffee Bags(60kgs) Harvested (millions)')\n",
    "plt.ylabel('Frequency')\n",
    "plt.show()\n"
   ]
  },
  {
   "cell_type": "markdown",
   "id": "bf3b682a",
   "metadata": {},
   "source": [
    "Answer:\n",
    "\n",
    "The line plot shows an overall increasing trend in the number of 60kg coffee bags harvested from 2002 to 2023. The pattern shows cyclical fluctuations, some years have higher outputs, followed by slight dips, but the general direction is upward.\n",
    "The distribution of harvest counts is not perfectly normal.\n"
   ]
  },
  {
   "cell_type": "markdown",
   "id": "57aeb853",
   "metadata": {},
   "source": [
    "_________"
   ]
  },
  {
   "cell_type": "markdown",
   "id": "33a849db",
   "metadata": {},
   "source": [
    "#### Correlation Between Bearing Trees and Coffee Harvested"
   ]
  },
  {
   "cell_type": "markdown",
   "id": "be3dab9c",
   "metadata": {},
   "source": [
    "What is the relationship between bearing_trees and 60kgs_bag? How *strong* is this relationship? Use pearson's correlation coefficient.\n"
   ]
  },
  {
   "cell_type": "code",
   "execution_count": 48,
   "id": "9a0b5dd8",
   "metadata": {},
   "outputs": [
    {
     "data": {
      "text/html": [
       "<div>\n",
       "<style scoped>\n",
       "    .dataframe tbody tr th:only-of-type {\n",
       "        vertical-align: middle;\n",
       "    }\n",
       "\n",
       "    .dataframe tbody tr th {\n",
       "        vertical-align: top;\n",
       "    }\n",
       "\n",
       "    .dataframe thead th {\n",
       "        text-align: right;\n",
       "    }\n",
       "</style>\n",
       "<table border=\"1\" class=\"dataframe\">\n",
       "  <thead>\n",
       "    <tr style=\"text-align: right;\">\n",
       "      <th></th>\n",
       "      <th>bearing_trees</th>\n",
       "      <th>60kgs_bag</th>\n",
       "    </tr>\n",
       "  </thead>\n",
       "  <tbody>\n",
       "    <tr>\n",
       "      <th>0</th>\n",
       "      <td>4465.0</td>\n",
       "      <td>16.20</td>\n",
       "    </tr>\n",
       "    <tr>\n",
       "      <th>5</th>\n",
       "      <td>5265.0</td>\n",
       "      <td>26.70</td>\n",
       "    </tr>\n",
       "    <tr>\n",
       "      <th>10</th>\n",
       "      <td>5050.0</td>\n",
       "      <td>14.40</td>\n",
       "    </tr>\n",
       "    <tr>\n",
       "      <th>15</th>\n",
       "      <td>5255.0</td>\n",
       "      <td>21.40</td>\n",
       "    </tr>\n",
       "    <tr>\n",
       "      <th>20</th>\n",
       "      <td>5330.0</td>\n",
       "      <td>16.30</td>\n",
       "    </tr>\n",
       "    <tr>\n",
       "      <th>25</th>\n",
       "      <td>5730.0</td>\n",
       "      <td>23.70</td>\n",
       "    </tr>\n",
       "    <tr>\n",
       "      <th>30</th>\n",
       "      <td>5720.0</td>\n",
       "      <td>16.85</td>\n",
       "    </tr>\n",
       "    <tr>\n",
       "      <th>35</th>\n",
       "      <td>5770.0</td>\n",
       "      <td>25.55</td>\n",
       "    </tr>\n",
       "    <tr>\n",
       "      <th>40</th>\n",
       "      <td>5725.0</td>\n",
       "      <td>22.10</td>\n",
       "    </tr>\n",
       "    <tr>\n",
       "      <th>45</th>\n",
       "      <td>5820.0</td>\n",
       "      <td>28.50</td>\n",
       "    </tr>\n",
       "    <tr>\n",
       "      <th>50</th>\n",
       "      <td>5760.0</td>\n",
       "      <td>23.50</td>\n",
       "    </tr>\n",
       "    <tr>\n",
       "      <th>55</th>\n",
       "      <td>5860.0</td>\n",
       "      <td>28.50</td>\n",
       "    </tr>\n",
       "    <tr>\n",
       "      <th>60</th>\n",
       "      <td>5810.0</td>\n",
       "      <td>29.40</td>\n",
       "    </tr>\n",
       "    <tr>\n",
       "      <th>69</th>\n",
       "      <td>5770.0</td>\n",
       "      <td>26.00</td>\n",
       "    </tr>\n",
       "    <tr>\n",
       "      <th>74</th>\n",
       "      <td>5735.0</td>\n",
       "      <td>25.30</td>\n",
       "    </tr>\n",
       "    <tr>\n",
       "      <th>79</th>\n",
       "      <td>5640.0</td>\n",
       "      <td>32.50</td>\n",
       "    </tr>\n",
       "    <tr>\n",
       "      <th>89</th>\n",
       "      <td>5740.0</td>\n",
       "      <td>34.20</td>\n",
       "    </tr>\n",
       "    <tr>\n",
       "      <th>94</th>\n",
       "      <td>5700.0</td>\n",
       "      <td>29.10</td>\n",
       "    </tr>\n",
       "    <tr>\n",
       "      <th>99</th>\n",
       "      <td>6200.0</td>\n",
       "      <td>34.80</td>\n",
       "    </tr>\n",
       "    <tr>\n",
       "      <th>104</th>\n",
       "      <td>6010.0</td>\n",
       "      <td>24.50</td>\n",
       "    </tr>\n",
       "    <tr>\n",
       "      <th>109</th>\n",
       "      <td>6100.0</td>\n",
       "      <td>28.50</td>\n",
       "    </tr>\n",
       "  </tbody>\n",
       "</table>\n",
       "</div>"
      ],
      "text/plain": [
       "     bearing_trees  60kgs_bag\n",
       "0           4465.0      16.20\n",
       "5           5265.0      26.70\n",
       "10          5050.0      14.40\n",
       "15          5255.0      21.40\n",
       "20          5330.0      16.30\n",
       "25          5730.0      23.70\n",
       "30          5720.0      16.85\n",
       "35          5770.0      25.55\n",
       "40          5725.0      22.10\n",
       "45          5820.0      28.50\n",
       "50          5760.0      23.50\n",
       "55          5860.0      28.50\n",
       "60          5810.0      29.40\n",
       "69          5770.0      26.00\n",
       "74          5735.0      25.30\n",
       "79          5640.0      32.50\n",
       "89          5740.0      34.20\n",
       "94          5700.0      29.10\n",
       "99          6200.0      34.80\n",
       "104         6010.0      24.50\n",
       "109         6100.0      28.50"
      ]
     },
     "execution_count": 48,
     "metadata": {},
     "output_type": "execute_result"
    }
   ],
   "source": [
    "# checking columns\n",
    "Minas_coffee_df[['bearing_trees','60kgs_bag']]"
   ]
  },
  {
   "cell_type": "markdown",
   "id": "5492ea51",
   "metadata": {},
   "source": [
    "To explore the relationship between the number of bearing trees and coffee yield, we calculate the correlation between bearing_trees and 60kgs_bag."
   ]
  },
  {
   "cell_type": "code",
   "execution_count": 49,
   "id": "6866e35e",
   "metadata": {},
   "outputs": [
    {
     "data": {
      "text/html": [
       "<div>\n",
       "<style scoped>\n",
       "    .dataframe tbody tr th:only-of-type {\n",
       "        vertical-align: middle;\n",
       "    }\n",
       "\n",
       "    .dataframe tbody tr th {\n",
       "        vertical-align: top;\n",
       "    }\n",
       "\n",
       "    .dataframe thead th {\n",
       "        text-align: right;\n",
       "    }\n",
       "</style>\n",
       "<table border=\"1\" class=\"dataframe\">\n",
       "  <thead>\n",
       "    <tr style=\"text-align: right;\">\n",
       "      <th></th>\n",
       "      <th>bearing_trees</th>\n",
       "      <th>60kgs_bag</th>\n",
       "    </tr>\n",
       "  </thead>\n",
       "  <tbody>\n",
       "    <tr>\n",
       "      <th>bearing_trees</th>\n",
       "      <td>1.000000</td>\n",
       "      <td>0.655343</td>\n",
       "    </tr>\n",
       "    <tr>\n",
       "      <th>60kgs_bag</th>\n",
       "      <td>0.655343</td>\n",
       "      <td>1.000000</td>\n",
       "    </tr>\n",
       "  </tbody>\n",
       "</table>\n",
       "</div>"
      ],
      "text/plain": [
       "               bearing_trees  60kgs_bag\n",
       "bearing_trees       1.000000   0.655343\n",
       "60kgs_bag           0.655343   1.000000"
      ]
     },
     "execution_count": 49,
     "metadata": {},
     "output_type": "execute_result"
    }
   ],
   "source": [
    "# checking correlations\n",
    "Minas_coffee_df[['bearing_trees','60kgs_bag']].corr()"
   ]
  },
  {
   "cell_type": "markdown",
   "id": "6d20cda6",
   "metadata": {},
   "source": [
    "To visualize the relationship between the number of bearing trees and coffee production, we plot a scatterplot with bearing_trees on the x-axis and 60kgs_bag on the y-axis."
   ]
  },
  {
   "cell_type": "code",
   "execution_count": 51,
   "id": "a4b1fdc0",
   "metadata": {},
   "outputs": [
    {
     "data": {
      "image/png": "[encoded data removed]",
      "text/plain": [
       "<Figure size 640x480 with 1 Axes>"
      ]
     },
     "metadata": {},
     "output_type": "display_data"
    }
   ],
   "source": [
    "# plotting scatter plot\n",
    "sns.scatterplot(x = Minas_coffee_df['bearing_trees'], y = Minas_coffee_df['60kgs_bag'])\n",
    "\n",
    "plt.title('Relationship Between Bearing Trees and Coffee Harvested')\n",
    "plt.xlabel('Bearing Trees')\n",
    "plt.ylabel('60kgs Coffee Bags')\n",
    "plt.show()"
   ]
  },
  {
   "cell_type": "markdown",
   "id": "cac638a7",
   "metadata": {},
   "source": [
    "Answer:\n",
    "\n",
    "There is a moderately strong positive relationship between amount of bearing coffee trees and the number of 60kg bags harvested in Minas Gerais, with a Pearson correlation coefficient of 0.655. This suggests that higher numbers of bearing trees generally support higher coffee production, although other influencing factors are likely present.\n"
   ]
  },
  {
   "cell_type": "markdown",
   "id": "53d7872f",
   "metadata": {},
   "source": [
    "_____________________________________________________"
   ]
  },
  {
   "cell_type": "markdown",
   "id": "fead4448",
   "metadata": {},
   "source": [
    "##### Correlation Between Bearing Hectares and Coffee Produced"
   ]
  },
  {
   "cell_type": "markdown",
   "id": "ee6ea06a",
   "metadata": {},
   "source": [
    "What is the relationship between bearing_hectares and 60kgs_bag? How *strong* is this relationship? Use pearson's correlation coefficient."
   ]
  },
  {
   "cell_type": "markdown",
   "id": "7347a7ad",
   "metadata": {},
   "source": [
    "To explore the relationship between the  bearing hectares and coffee yield, we calculate the correlation between bearing_hectares and 60kgs_bag."
   ]
  },
  {
   "cell_type": "code",
   "execution_count": null,
   "id": "f12cea70",
   "metadata": {},
   "outputs": [
    {
     "data": {
      "text/html": [
       "<div>\n",
       "<style scoped>\n",
       "    .dataframe tbody tr th:only-of-type {\n",
       "        vertical-align: middle;\n",
       "    }\n",
       "\n",
       "    .dataframe tbody tr th {\n",
       "        vertical-align: top;\n",
       "    }\n",
       "\n",
       "    .dataframe thead th {\n",
       "        text-align: right;\n",
       "    }\n",
       "</style>\n",
       "<table border=\"1\" class=\"dataframe\">\n",
       "  <thead>\n",
       "    <tr style=\"text-align: right;\">\n",
       "      <th></th>\n",
       "      <th>bearing_hectares</th>\n",
       "      <th>60kgs_bag</th>\n",
       "    </tr>\n",
       "  </thead>\n",
       "  <tbody>\n",
       "    <tr>\n",
       "      <th>bearing_hectares</th>\n",
       "      <td>1.00000</td>\n",
       "      <td>-0.48092</td>\n",
       "    </tr>\n",
       "    <tr>\n",
       "      <th>60kgs_bag</th>\n",
       "      <td>-0.48092</td>\n",
       "      <td>1.00000</td>\n",
       "    </tr>\n",
       "  </tbody>\n",
       "</table>\n",
       "</div>"
      ],
      "text/plain": [
       "                  bearing_hectares  60kgs_bag\n",
       "bearing_hectares           1.00000   -0.48092\n",
       "60kgs_bag                 -0.48092    1.00000"
      ]
     },
     "execution_count": 53,
     "metadata": {},
     "output_type": "execute_result"
    }
   ],
   "source": [
    "# finding pearson's correlation coefficient \n",
    "Minas_coffee_df[['bearing_hectares','60kgs_bag']].corr()"
   ]
  },
  {
   "cell_type": "markdown",
   "id": "5201da36",
   "metadata": {},
   "source": [
    "To understand how Coffee produced and bearing hectares are related, we plot a scatterplot using the 60kgs_bags and bearing_hectares columns."
   ]
  },
  {
   "cell_type": "code",
   "execution_count": 54,
   "id": "9e1c77e0",
   "metadata": {},
   "outputs": [
    {
     "data": {
      "image/png": "[encoded data removed]",
      "text/plain": [
       "<Figure size 640x480 with 1 Axes>"
      ]
     },
     "metadata": {},
     "output_type": "display_data"
    }
   ],
   "source": [
    "# Plotting scatter plot\n",
    "sns.scatterplot(x = Minas_coffee_df['bearing_hectares'], y = Minas_coffee_df['60kgs_bag'])\n",
    "\n",
    "\n",
    "plt.title('Relationship Between Bearing Hectares and Coffee Bags Harvested')\n",
    "plt.xlabel('Bearing Hectares')\n",
    "plt.ylabel('Coffee Bags')\n",
    "plt.show()"
   ]
  },
  {
   "cell_type": "markdown",
   "id": "346777f7",
   "metadata": {},
   "source": [
    "Answer:\n",
    "\n",
    "There is a moderate negative relationship between bearing hectares and the number of 60kg bags harvested in Minas Gerais, with a Pearson correlation coefficient of -0.481.\n",
    "The scatter plot shows a somewhat downward trend, although the relationship is not perfectly linear.\n",
    "This inverse pattern suggests that simply having more land under production doesn't necessarily lead to higher yields, it may reflect inefficiencies in large scale productions."
   ]
  },
  {
   "cell_type": "markdown",
   "id": "269f2d34",
   "metadata": {},
   "source": [
    "_________________"
   ]
  }
 ],
 "metadata": {
  "kernelspec": {
   "display_name": "ds",
   "language": "python",
   "name": "python3"
  },
  "language_info": {
   "codemirror_mode": {
    "name": "ipython",
    "version": 3
   },
   "file_extension": ".py",
   "mimetype": "text/x-python",
   "name": "python",
   "nbconvert_exporter": "python",
   "pygments_lexer": "ipython3",
   "version": "3.12.9"
  }
 },
 "nbformat": 4,
 "nbformat_minor": 5
}
